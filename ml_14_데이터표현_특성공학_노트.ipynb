{
 "cells": [
  {
   "cell_type": "markdown",
   "metadata": {
    "colab_type": "text",
    "id": "moBqvpsZ0Rpk",
    "slideshow": {
     "slide_type": "slide"
    }
   },
   "source": [
    "# 데이터 표현\n",
    "\n",
    "- 연속형 특성(continuous feature) : 숫자로 이루어진 순서가 있는 데이터 특성\n",
    "\n",
    "- 범주형 특성(categorical feature) 또는 이산형 특성(dicrete feature) : 숫자가 아닌 이산적인 데이터 특성\n",
    "  (컴퓨터, 옷, 책 등)\n",
    "  \n",
    "- 데이터의 특성보다 데이터를 어떻게 표현하는가가 머신러닝 모델의 성능에 주는 영향이 큼\n",
    "\n",
    "-  특성 공학(feature engineering) : 특정 애플리케이션에 가장 적합한 데이터 표현을 찾는 것\n",
    "  "
   ]
  },
  {
   "cell_type": "markdown",
   "metadata": {
    "colab_type": "text",
    "id": "j0thqT-gmxek",
    "slideshow": {
     "slide_type": "slide"
    }
   },
   "source": [
    "## 레이블 인코딩(Label encoding)\n",
    "\n",
    "- 카테고리 특성을 코드형 숫자 값으로 변환하는 것\n",
    "\n",
    "| 상품구분 | 레이블 인코딩 |\n",
    "|---|---|\n",
    "|TV| 0|\n",
    "|냉장고|1|\n",
    "|전자렌지|2|\n",
    "|컴퓨터|3|\n",
    "|선풍기|4|\n",
    "|믹서|5|\n",
    "\n",
    "- 주의 : '01', '02' 코드값 역시 문자열이므로 1, 2와 같은 숫자형 값으로 변환"
   ]
  },
  {
   "cell_type": "code",
   "execution_count": 1,
   "metadata": {
    "colab": {
     "base_uri": "https://localhost:8080/",
     "height": 71
    },
    "colab_type": "code",
    "executionInfo": {
     "elapsed": 716,
     "status": "ok",
     "timestamp": 1598174792568,
     "user": {
      "displayName": "oz To",
      "photoUrl": "",
      "userId": "12937505880450462933"
     },
     "user_tz": -540
    },
    "id": "wXSpqoqpn_k5",
    "outputId": "932882b0-b2c7-4f23-c544-56451a98985c",
    "slideshow": {
     "slide_type": "slide"
    }
   },
   "outputs": [
    {
     "name": "stdout",
     "output_type": "stream",
     "text": [
      "인코딩 변환값:  [0 1 4 5 3 2]\n"
     ]
    }
   ],
   "source": [
    "from sklearn.preprocessing import LabelEncoder\n",
    "\n",
    "items = ['TV','냉장고','전자렌지','컴퓨터','선풍기','믹서']\n",
    "\n",
    "# 인코딩 변환값\n",
    "encoder = LabelEncoder()\n",
    "encoder.fit(items)\n",
    "labels = encoder.transform(items)\n",
    "print(\"인코딩 변환값: \", labels)\n",
    "\n",
    "# 인코딩된 값을 다시 디코딩"
   ]
  },
  {
   "cell_type": "markdown",
   "metadata": {
    "colab_type": "text",
    "id": "PJgzU5x2pRQW",
    "slideshow": {
     "slide_type": "slide"
    }
   },
   "source": [
    "- 몇몇 ML 알고리즘에는 숫자 값을 적용할 경우 예측 성능이 떨어지는 경우가 발생할 수 있음\n",
    "- 숫자 값의 경우 크고 작음에 대한 특성이 작용하기 때문\n",
    "- 원-핫-인코딩은 레이블 인코딩의 이러한 문제점을 해결하기 위한 인코딩 방식"
   ]
  },
  {
   "cell_type": "markdown",
   "metadata": {
    "colab_type": "text",
    "id": "EaxFNhr72BAq",
    "slideshow": {
     "slide_type": "slide"
    }
   },
   "source": [
    "## 원-핫-인코딩(one-hot-encoding)\n",
    "\n",
    "- 범주형 변수를 표현하는 데 가장 널리 쓰이는 방법\n",
    "- 범주형 변수를 0 또는 1 값을 가진 하나 이상의 새로운 특성으로 바꾼 것\n",
    "\n",
    "- 예를 들면 과목에 수학, 국어, 과학과 같이 3과목이 특성에 있다면 각각을 (1, 0, 0), (0, 1, 0) (0, 0, 1)과 같이 표현\n",
    "\n",
    "- pandas나 scikit-learn을 이용하여 범주형 변수를 원-핫 인코딩으로 바꿀 수 있음"
   ]
  },
  {
   "cell_type": "code",
   "execution_count": 2,
   "metadata": {
    "colab": {
     "base_uri": "https://localhost:8080/",
     "height": 215
    },
    "colab_type": "code",
    "executionInfo": {
     "elapsed": 710,
     "status": "ok",
     "timestamp": 1598175745645,
     "user": {
      "displayName": "oz To",
      "photoUrl": "",
      "userId": "12937505880450462933"
     },
     "user_tz": -540
    },
    "id": "TroaANL8qujt",
    "outputId": "c9104ffd-f76d-41f5-e885-b6d64b72861e",
    "slideshow": {
     "slide_type": "slide"
    }
   },
   "outputs": [
    {
     "data": {
      "text/plain": [
       "(array([[1., 0., 0., 0., 0., 0.],\n",
       "        [0., 1., 0., 0., 0., 0.],\n",
       "        [0., 0., 0., 0., 1., 0.],\n",
       "        [0., 0., 0., 0., 0., 1.],\n",
       "        [0., 0., 0., 1., 0., 0.],\n",
       "        [0., 0., 0., 1., 0., 0.],\n",
       "        [0., 0., 1., 0., 0., 0.],\n",
       "        [0., 0., 1., 0., 0., 0.]]),\n",
       " (8, 6))"
      ]
     },
     "execution_count": 2,
     "metadata": {},
     "output_type": "execute_result"
    }
   ],
   "source": [
    "from sklearn.preprocessing import OneHotEncoder\n",
    "import numpy as np\n",
    "\n",
    "items = ['TV','냉장고','전자렌지','컴퓨터','선풍기','선풍기','믹서','믹서']\n",
    "\n",
    "# 먼저 숫자 값으로 변환\n",
    "encoder = LabelEncoder()\n",
    "encoder.fit(items)\n",
    "labels = encoder.transform(items)\n",
    "# print(labels)\n",
    "\n",
    "# 2차원 데이터로 변화\n",
    "labels = labels.reshape(-1,1)\n",
    "# print(labels)\n",
    "\n",
    "# 원-핫-인코딩 적용\n",
    "encoder_oh = OneHotEncoder().fit(labels)\n",
    "labels_oh = encoder_oh.transform(labels)\n",
    "labels_oh.toarray(), labels_oh.shape"
   ]
  },
  {
   "cell_type": "code",
   "execution_count": 3,
   "metadata": {
    "colab": {
     "base_uri": "https://localhost:8080/",
     "height": 297
    },
    "colab_type": "code",
    "executionInfo": {
     "elapsed": 803,
     "status": "ok",
     "timestamp": 1598176002978,
     "user": {
      "displayName": "oz To",
      "photoUrl": "",
      "userId": "12937505880450462933"
     },
     "user_tz": -540
    },
    "id": "6mn7R_GBszkc",
    "outputId": "929190a8-96bc-4d6a-8844-42fb48aa2c6b",
    "slideshow": {
     "slide_type": "slide"
    }
   },
   "outputs": [
    {
     "data": {
      "text/html": [
       "<div>\n",
       "<style scoped>\n",
       "    .dataframe tbody tr th:only-of-type {\n",
       "        vertical-align: middle;\n",
       "    }\n",
       "\n",
       "    .dataframe tbody tr th {\n",
       "        vertical-align: top;\n",
       "    }\n",
       "\n",
       "    .dataframe thead th {\n",
       "        text-align: right;\n",
       "    }\n",
       "</style>\n",
       "<table border=\"1\" class=\"dataframe\">\n",
       "  <thead>\n",
       "    <tr style=\"text-align: right;\">\n",
       "      <th></th>\n",
       "      <th>items_TV</th>\n",
       "      <th>items_냉장고</th>\n",
       "      <th>items_믹서</th>\n",
       "      <th>items_선풍기</th>\n",
       "      <th>items_전자렌지</th>\n",
       "      <th>items_컴퓨터</th>\n",
       "    </tr>\n",
       "  </thead>\n",
       "  <tbody>\n",
       "    <tr>\n",
       "      <th>0</th>\n",
       "      <td>1</td>\n",
       "      <td>0</td>\n",
       "      <td>0</td>\n",
       "      <td>0</td>\n",
       "      <td>0</td>\n",
       "      <td>0</td>\n",
       "    </tr>\n",
       "    <tr>\n",
       "      <th>1</th>\n",
       "      <td>0</td>\n",
       "      <td>1</td>\n",
       "      <td>0</td>\n",
       "      <td>0</td>\n",
       "      <td>0</td>\n",
       "      <td>0</td>\n",
       "    </tr>\n",
       "    <tr>\n",
       "      <th>2</th>\n",
       "      <td>0</td>\n",
       "      <td>0</td>\n",
       "      <td>0</td>\n",
       "      <td>0</td>\n",
       "      <td>1</td>\n",
       "      <td>0</td>\n",
       "    </tr>\n",
       "    <tr>\n",
       "      <th>3</th>\n",
       "      <td>0</td>\n",
       "      <td>0</td>\n",
       "      <td>0</td>\n",
       "      <td>0</td>\n",
       "      <td>0</td>\n",
       "      <td>1</td>\n",
       "    </tr>\n",
       "    <tr>\n",
       "      <th>4</th>\n",
       "      <td>0</td>\n",
       "      <td>0</td>\n",
       "      <td>0</td>\n",
       "      <td>1</td>\n",
       "      <td>0</td>\n",
       "      <td>0</td>\n",
       "    </tr>\n",
       "    <tr>\n",
       "      <th>5</th>\n",
       "      <td>0</td>\n",
       "      <td>0</td>\n",
       "      <td>0</td>\n",
       "      <td>1</td>\n",
       "      <td>0</td>\n",
       "      <td>0</td>\n",
       "    </tr>\n",
       "    <tr>\n",
       "      <th>6</th>\n",
       "      <td>0</td>\n",
       "      <td>0</td>\n",
       "      <td>1</td>\n",
       "      <td>0</td>\n",
       "      <td>0</td>\n",
       "      <td>0</td>\n",
       "    </tr>\n",
       "    <tr>\n",
       "      <th>7</th>\n",
       "      <td>0</td>\n",
       "      <td>0</td>\n",
       "      <td>1</td>\n",
       "      <td>0</td>\n",
       "      <td>0</td>\n",
       "      <td>0</td>\n",
       "    </tr>\n",
       "  </tbody>\n",
       "</table>\n",
       "</div>"
      ],
      "text/plain": [
       "   items_TV  items_냉장고  items_믹서  items_선풍기  items_전자렌지  items_컴퓨터\n",
       "0         1          0         0          0           0          0\n",
       "1         0          1         0          0           0          0\n",
       "2         0          0         0          0           1          0\n",
       "3         0          0         0          0           0          1\n",
       "4         0          0         0          1           0          0\n",
       "5         0          0         0          1           0          0\n",
       "6         0          0         1          0           0          0\n",
       "7         0          0         1          0           0          0"
      ]
     },
     "execution_count": 3,
     "metadata": {},
     "output_type": "execute_result"
    }
   ],
   "source": [
    "# Pandas 원-핫-인코딩\n",
    "import pandas as pd\n",
    "\n",
    "df = pd.DataFrame({'items': items})\n",
    "df\n",
    "\n",
    "# 숫자형 값으로 변환 없이도 바로 변환 가능\n",
    "pd.get_dummies(df)"
   ]
  },
  {
   "cell_type": "markdown",
   "metadata": {
    "colab_type": "text",
    "id": "hg-U2nBR3Yhb",
    "slideshow": {
     "slide_type": "slide"
    }
   },
   "source": [
    "### 원-핫-인코딩 실습 01\n",
    "\n",
    "- 데이터는 1994년 인구 조사 데이터베이스에서 추출한 미국 성인 소득 데이터셋\n",
    "\n",
    "- adult 데이터셋을 사용해 어떤 근로자의 수입이 50,000달라를 초과하는지, 그 이하일지를 예측\n",
    "\n",
    "- 특성에는 나이, 고용형태, 교육 수준, 성별, 주당 근로시간, 직업 등이 있음"
   ]
  },
  {
   "cell_type": "code",
   "execution_count": 4,
   "metadata": {
    "colab": {},
    "colab_type": "code",
    "executionInfo": {
     "elapsed": 745,
     "status": "ok",
     "timestamp": 1598176139121,
     "user": {
      "displayName": "oz To",
      "photoUrl": "",
      "userId": "12937505880450462933"
     },
     "user_tz": -540
    },
    "id": "-GKMC7N1t8t9",
    "slideshow": {
     "slide_type": "skip"
    }
   },
   "outputs": [],
   "source": [
    "# 경고메시지 무시\n",
    "import warnings\n",
    "warnings.filterwarnings(\"ignore\")"
   ]
  },
  {
   "cell_type": "code",
   "execution_count": 5,
   "metadata": {
    "colab": {
     "base_uri": "https://localhost:8080/",
     "height": 469
    },
    "colab_type": "code",
    "executionInfo": {
     "elapsed": 7480,
     "status": "ok",
     "timestamp": 1598176146472,
     "user": {
      "displayName": "oz To",
      "photoUrl": "",
      "userId": "12937505880450462933"
     },
     "user_tz": -540
    },
    "id": "adbaYQW5uH4r",
    "outputId": "4f8f3d55-9980-4627-86b6-a79a458b60c4",
    "slideshow": {
     "slide_type": "skip"
    }
   },
   "outputs": [],
   "source": [
    "# !pip install mglearn"
   ]
  },
  {
   "cell_type": "code",
   "execution_count": 6,
   "metadata": {
    "colab": {
     "base_uri": "https://localhost:8080/",
     "height": 272
    },
    "colab_type": "code",
    "executionInfo": {
     "elapsed": 1509,
     "status": "ok",
     "timestamp": 1598176299327,
     "user": {
      "displayName": "oz To",
      "photoUrl": "",
      "userId": "12937505880450462933"
     },
     "user_tz": -540
    },
    "id": "ePix4hZfyEHY",
    "outputId": "4f68d738-3eac-4142-cb1b-0f871457cc30",
    "slideshow": {
     "slide_type": "slide"
    }
   },
   "outputs": [
    {
     "data": {
      "text/html": [
       "<div>\n",
       "<style scoped>\n",
       "    .dataframe tbody tr th:only-of-type {\n",
       "        vertical-align: middle;\n",
       "    }\n",
       "\n",
       "    .dataframe tbody tr th {\n",
       "        vertical-align: top;\n",
       "    }\n",
       "\n",
       "    .dataframe thead th {\n",
       "        text-align: right;\n",
       "    }\n",
       "</style>\n",
       "<table border=\"1\" class=\"dataframe\">\n",
       "  <thead>\n",
       "    <tr style=\"text-align: right;\">\n",
       "      <th></th>\n",
       "      <th>age</th>\n",
       "      <th>workclass</th>\n",
       "      <th>education</th>\n",
       "      <th>gender</th>\n",
       "      <th>hours-per-week</th>\n",
       "      <th>occupation</th>\n",
       "      <th>income</th>\n",
       "    </tr>\n",
       "  </thead>\n",
       "  <tbody>\n",
       "    <tr>\n",
       "      <th>0</th>\n",
       "      <td>39</td>\n",
       "      <td>State-gov</td>\n",
       "      <td>Bachelors</td>\n",
       "      <td>Male</td>\n",
       "      <td>40</td>\n",
       "      <td>Adm-clerical</td>\n",
       "      <td>&lt;=50K</td>\n",
       "    </tr>\n",
       "    <tr>\n",
       "      <th>1</th>\n",
       "      <td>50</td>\n",
       "      <td>Self-emp-not-inc</td>\n",
       "      <td>Bachelors</td>\n",
       "      <td>Male</td>\n",
       "      <td>13</td>\n",
       "      <td>Exec-managerial</td>\n",
       "      <td>&lt;=50K</td>\n",
       "    </tr>\n",
       "    <tr>\n",
       "      <th>2</th>\n",
       "      <td>38</td>\n",
       "      <td>Private</td>\n",
       "      <td>HS-grad</td>\n",
       "      <td>Male</td>\n",
       "      <td>40</td>\n",
       "      <td>Handlers-cleaners</td>\n",
       "      <td>&lt;=50K</td>\n",
       "    </tr>\n",
       "    <tr>\n",
       "      <th>3</th>\n",
       "      <td>53</td>\n",
       "      <td>Private</td>\n",
       "      <td>11th</td>\n",
       "      <td>Male</td>\n",
       "      <td>40</td>\n",
       "      <td>Handlers-cleaners</td>\n",
       "      <td>&lt;=50K</td>\n",
       "    </tr>\n",
       "    <tr>\n",
       "      <th>4</th>\n",
       "      <td>28</td>\n",
       "      <td>Private</td>\n",
       "      <td>Bachelors</td>\n",
       "      <td>Female</td>\n",
       "      <td>40</td>\n",
       "      <td>Prof-specialty</td>\n",
       "      <td>&lt;=50K</td>\n",
       "    </tr>\n",
       "  </tbody>\n",
       "</table>\n",
       "</div>"
      ],
      "text/plain": [
       "   age          workclass   education   gender  hours-per-week  \\\n",
       "0   39          State-gov   Bachelors     Male              40   \n",
       "1   50   Self-emp-not-inc   Bachelors     Male              13   \n",
       "2   38            Private     HS-grad     Male              40   \n",
       "3   53            Private        11th     Male              40   \n",
       "4   28            Private   Bachelors   Female              40   \n",
       "\n",
       "           occupation  income  \n",
       "0        Adm-clerical   <=50K  \n",
       "1     Exec-managerial   <=50K  \n",
       "2   Handlers-cleaners   <=50K  \n",
       "3   Handlers-cleaners   <=50K  \n",
       "4      Prof-specialty   <=50K  "
      ]
     },
     "execution_count": 6,
     "metadata": {},
     "output_type": "execute_result"
    }
   ],
   "source": [
    "import os\n",
    "import pandas as pd\n",
    "import mglearn\n",
    "\n",
    "# 열 이름을 나타내는 헤더가 없으므로 header=None으로 지정 names 매개변수로 열 이름을 제공\n",
    "data = pd.read_csv(\n",
    "    os.path.join(mglearn.datasets.DATA_PATH, \"adult.data\"),\n",
    "    header=None, index_col=False,\n",
    "    names=['age', 'workclass', 'fnlwgt', 'education',  'education-num',\n",
    "           'marital-status', 'occupation', 'relationship', 'race', 'gender',\n",
    "           'capital-gain', 'capital-loss', 'hours-per-week', 'native-country',\n",
    "           'income'])\n",
    "\n",
    "# 실습을 위해 몇개의 열만 선택\n",
    "data = data[['age', 'workclass', 'education', 'gender', 'hours-per-week', 'occupation', 'income']]\n",
    "\n",
    "data.head()"
   ]
  },
  {
   "cell_type": "markdown",
   "metadata": {
    "colab_type": "text",
    "id": "8ufEvTfz3nIU",
    "slideshow": {
     "slide_type": "slide"
    }
   },
   "source": [
    "#### 범주형 데이터 문자열 확인하기"
   ]
  },
  {
   "cell_type": "code",
   "execution_count": 7,
   "metadata": {
    "colab": {
     "base_uri": "https://localhost:8080/",
     "height": 71
    },
    "colab_type": "code",
    "executionInfo": {
     "elapsed": 870,
     "status": "ok",
     "timestamp": 1598176307356,
     "user": {
      "displayName": "oz To",
      "photoUrl": "",
      "userId": "12937505880450462933"
     },
     "user_tz": -540
    },
    "id": "7GMuj7_63qSL",
    "outputId": "1467f791-8136-470f-e7b9-fd9019d87559",
    "slideshow": {
     "slide_type": "slide"
    }
   },
   "outputs": [
    {
     "data": {
      "text/plain": [
       " Male      21790\n",
       " Female    10771\n",
       "Name: gender, dtype: int64"
      ]
     },
     "execution_count": 7,
     "metadata": {},
     "output_type": "execute_result"
    }
   ],
   "source": [
    "# 열의 내용을 확인하기 위해 유일한 값이 각각 몇 번 나타나는지 출력\n",
    "data.gender.value_counts()"
   ]
  },
  {
   "cell_type": "code",
   "execution_count": 8,
   "metadata": {
    "scrolled": true
   },
   "outputs": [
    {
     "data": {
      "text/plain": [
       " HS-grad         10501\n",
       " Some-college     7291\n",
       " Bachelors        5355\n",
       " Masters          1723\n",
       " Assoc-voc        1382\n",
       " 11th             1175\n",
       " Assoc-acdm       1067\n",
       " 10th              933\n",
       " 7th-8th           646\n",
       " Prof-school       576\n",
       " 9th               514\n",
       " 12th              433\n",
       " Doctorate         413\n",
       " 5th-6th           333\n",
       " 1st-4th           168\n",
       " Preschool          51\n",
       "Name: education, dtype: int64"
      ]
     },
     "execution_count": 8,
     "metadata": {},
     "output_type": "execute_result"
    }
   ],
   "source": [
    "data.education.value_counts()"
   ]
  },
  {
   "cell_type": "code",
   "execution_count": 9,
   "metadata": {},
   "outputs": [
    {
     "data": {
      "text/plain": [
       " Prof-specialty       4140\n",
       " Craft-repair         4099\n",
       " Exec-managerial      4066\n",
       " Adm-clerical         3770\n",
       " Sales                3650\n",
       " Other-service        3295\n",
       " Machine-op-inspct    2002\n",
       " ?                    1843\n",
       " Transport-moving     1597\n",
       " Handlers-cleaners    1370\n",
       " Farming-fishing       994\n",
       " Tech-support          928\n",
       " Protective-serv       649\n",
       " Priv-house-serv       149\n",
       " Armed-Forces            9\n",
       "Name: occupation, dtype: int64"
      ]
     },
     "execution_count": 9,
     "metadata": {},
     "output_type": "execute_result"
    }
   ],
   "source": [
    "data.occupation.value_counts()"
   ]
  },
  {
   "cell_type": "markdown",
   "metadata": {
    "colab_type": "text",
    "id": "8PCB0AbO4X_j",
    "slideshow": {
     "slide_type": "slide"
    }
   },
   "source": [
    "- 성별의 경우 Male, Female로 잘 나누어져있고, 정확하게 두 가지 값을 가지고 있어서 원-핫-인코딩으로 나타내기 좋은 형태\n",
    "- 모든 열을 살펴보고 그 값들의 확인이 필요"
   ]
  },
  {
   "cell_type": "code",
   "execution_count": 10,
   "metadata": {
    "colab": {
     "base_uri": "https://localhost:8080/",
     "height": 1000
    },
    "colab_type": "code",
    "executionInfo": {
     "elapsed": 793,
     "status": "ok",
     "timestamp": 1598176654753,
     "user": {
      "displayName": "oz To",
      "photoUrl": "",
      "userId": "12937505880450462933"
     },
     "user_tz": -540
    },
    "id": "zF6S5W5F4h2Z",
    "outputId": "587db913-24ce-4ea2-c3c0-aa186af556d7",
    "slideshow": {
     "slide_type": "slide"
    }
   },
   "outputs": [
    {
     "name": "stdout",
     "output_type": "stream",
     "text": [
      "                                0   1   2   3   4\n",
      "age                            39  50  38  53  28\n",
      "hours-per-week                 40  13  40  40  40\n",
      "workclass_ ?                    0   0   0   0   0\n",
      "workclass_ Federal-gov          0   0   0   0   0\n",
      "workclass_ Local-gov            0   0   0   0   0\n",
      "workclass_ Never-worked         0   0   0   0   0\n",
      "workclass_ Private              0   0   1   1   1\n",
      "workclass_ Self-emp-inc         0   0   0   0   0\n",
      "workclass_ Self-emp-not-inc     0   1   0   0   0\n",
      "workclass_ State-gov            1   0   0   0   0\n",
      "workclass_ Without-pay          0   0   0   0   0\n",
      "education_ 10th                 0   0   0   0   0\n",
      "education_ 11th                 0   0   0   1   0\n",
      "education_ 12th                 0   0   0   0   0\n",
      "education_ 1st-4th              0   0   0   0   0\n",
      "education_ 5th-6th              0   0   0   0   0\n",
      "education_ 7th-8th              0   0   0   0   0\n",
      "education_ 9th                  0   0   0   0   0\n",
      "education_ Assoc-acdm           0   0   0   0   0\n",
      "education_ Assoc-voc            0   0   0   0   0\n",
      "education_ Bachelors            1   1   0   0   1\n",
      "education_ Doctorate            0   0   0   0   0\n",
      "education_ HS-grad              0   0   1   0   0\n",
      "education_ Masters              0   0   0   0   0\n",
      "education_ Preschool            0   0   0   0   0\n",
      "education_ Prof-school          0   0   0   0   0\n",
      "education_ Some-college         0   0   0   0   0\n",
      "gender_ Female                  0   0   0   0   1\n",
      "gender_ Male                    1   1   1   1   0\n",
      "occupation_ ?                   0   0   0   0   0\n",
      "occupation_ Adm-clerical        1   0   0   0   0\n",
      "occupation_ Armed-Forces        0   0   0   0   0\n",
      "occupation_ Craft-repair        0   0   0   0   0\n",
      "occupation_ Exec-managerial     0   1   0   0   0\n",
      "occupation_ Farming-fishing     0   0   0   0   0\n",
      "occupation_ Handlers-cleaners   0   0   1   1   0\n",
      "occupation_ Machine-op-inspct   0   0   0   0   0\n",
      "occupation_ Other-service       0   0   0   0   0\n",
      "occupation_ Priv-house-serv     0   0   0   0   0\n",
      "occupation_ Prof-specialty      0   0   0   0   1\n",
      "occupation_ Protective-serv     0   0   0   0   0\n",
      "occupation_ Sales               0   0   0   0   0\n",
      "occupation_ Tech-support        0   0   0   0   0\n",
      "occupation_ Transport-moving    0   0   0   0   0\n",
      "income_ <=50K                   1   1   1   1   1\n",
      "income_ >50K                    0   0   0   0   0\n"
     ]
    },
    {
     "data": {
      "text/plain": [
       "(32561, 46)"
      ]
     },
     "execution_count": 10,
     "metadata": {},
     "output_type": "execute_result"
    }
   ],
   "source": [
    "# 원본 특성\n",
    "data.columns\n",
    "\n",
    "# 원 핫 인코딩 수행\n",
    "data_dummies = pd.get_dummies(data)\n",
    "\n",
    "# get_dummies 사용 후 특성\n",
    "print(data_dummies.head().T)\n",
    "data_dummies.shape"
   ]
  },
  {
   "cell_type": "markdown",
   "metadata": {
    "colab_type": "text",
    "id": "TOUJMuw0v-FO",
    "slideshow": {
     "slide_type": "slide"
    }
   },
   "source": [
    "- 연속형 특성인 age와 hours-per-week는 그대로\n",
    "- 범주형 특성은 값마다 새로운 특성으로 확장"
   ]
  },
  {
   "cell_type": "code",
   "execution_count": 11,
   "metadata": {
    "colab": {
     "base_uri": "https://localhost:8080/",
     "height": 35
    },
    "colab_type": "code",
    "executionInfo": {
     "elapsed": 739,
     "status": "ok",
     "timestamp": 1598176900574,
     "user": {
      "displayName": "oz To",
      "photoUrl": "",
      "userId": "12937505880450462933"
     },
     "user_tz": -540
    },
    "id": "pt2lj-7Z7a8r",
    "outputId": "321eb969-1324-4d68-ee33-b77aa96d6aec",
    "slideshow": {
     "slide_type": "slide"
    }
   },
   "outputs": [
    {
     "data": {
      "text/plain": [
       "((32561, 44), (32561,))"
      ]
     },
     "execution_count": 11,
     "metadata": {},
     "output_type": "execute_result"
    }
   ],
   "source": [
    "# 특성과 라벨을 분리\n",
    "# income으로 시작하는 두 열에 인코딩된 라벨을 분리\n",
    "# 개별적으로 인코딩을 하게되면 컬럼이 없는 것은 안만들어지게 된다. \n",
    "# 학습에 필요한 데이터의 짝이 불일치가 될때가 생기기 때문에 전체를 인코딩후 나눈다.\n",
    "\n",
    "features = data_dummies.loc[:,'age':'occupation_ Transport-moving']\n",
    "X = features.values\n",
    "y = data_dummies['income_ >50K'].values\n",
    "X.shape, y.shape"
   ]
  },
  {
   "cell_type": "code",
   "execution_count": 12,
   "metadata": {
    "colab": {
     "base_uri": "https://localhost:8080/",
     "height": 35
    },
    "colab_type": "code",
    "executionInfo": {
     "elapsed": 759,
     "status": "ok",
     "timestamp": 1598176902453,
     "user": {
      "displayName": "oz To",
      "photoUrl": "",
      "userId": "12937505880450462933"
     },
     "user_tz": -540
    },
    "id": "NHU4t-sK7foV",
    "outputId": "35d01d88-d576-489c-a43b-d90f521017ea",
    "slideshow": {
     "slide_type": "slide"
    }
   },
   "outputs": [
    {
     "data": {
      "text/plain": [
       "0.8067804937968308"
      ]
     },
     "execution_count": 12,
     "metadata": {},
     "output_type": "execute_result"
    }
   ],
   "source": [
    "# 모델 학습\n",
    "from sklearn.linear_model import LogisticRegression\n",
    "from sklearn.model_selection import train_test_split\n",
    "\n",
    "X_train, X_test, y_train, y_test = train_test_split(X, y, random_state=0)\n",
    "\n",
    "model = LogisticRegression()\n",
    "model.fit(X_train, y_train)\n",
    "model.score(X_test, y_test)"
   ]
  },
  {
   "cell_type": "markdown",
   "metadata": {
    "colab_type": "text",
    "id": "l3n9M74exYlp",
    "slideshow": {
     "slide_type": "slide"
    }
   },
   "source": [
    "- 훈련 데이터와 테스트 데이터를 모두 담고 있는 DataFrame을 사용해 원-핫-인코딩을 하는 이유\n",
    "- 훈련 세트와 테스트 세트에 범주형 값이 같은 방식으로 표현되어야 하기 때문\n",
    "- 각각 가지고 있는 범주형 값에 따라 특성의 개수가 달라지는 경우가 발생"
   ]
  },
  {
   "cell_type": "markdown",
   "metadata": {
    "colab_type": "text",
    "id": "nEy6kA8I8TkA",
    "slideshow": {
     "slide_type": "slide"
    }
   },
   "source": [
    "#### 숫자로 표현된 범주형 특성\n",
    "\n",
    "- 저장 공간을 위하여 범주형 변수가 숫자로 된 경우가 많음 (남자 : 1, 여자 : 0) -> 연속형으로 다뤄야 할지 범주형으로 다뤄야 할지 어려울 수 있음\n",
    "\n",
    "- 영화 관람 등급의 경우에는 범주형이지만 순서를 가지고 있고, 영화 별점의 경우에는 별 개수에 따라 연속형으로 나타낼 수도 있고, 범주형으로 나타낼 수도 있음.\n",
    "\n",
    "- 풀려는 문제나 데이터 그리고 어떤 머신러닝 알고리즘을 사용할지에 따라 선택"
   ]
  },
  {
   "cell_type": "code",
   "execution_count": 13,
   "metadata": {
    "colab": {
     "base_uri": "https://localhost:8080/",
     "height": 173
    },
    "colab_type": "code",
    "executionInfo": {
     "elapsed": 785,
     "status": "ok",
     "timestamp": 1598177552294,
     "user": {
      "displayName": "oz To",
      "photoUrl": "",
      "userId": "12937505880450462933"
     },
     "user_tz": -540
    },
    "id": "giccGAqq9Ts4",
    "outputId": "a2998b8c-bc00-432d-d46e-543817d543c3",
    "slideshow": {
     "slide_type": "slide"
    }
   },
   "outputs": [
    {
     "data": {
      "text/html": [
       "<div>\n",
       "<style scoped>\n",
       "    .dataframe tbody tr th:only-of-type {\n",
       "        vertical-align: middle;\n",
       "    }\n",
       "\n",
       "    .dataframe tbody tr th {\n",
       "        vertical-align: top;\n",
       "    }\n",
       "\n",
       "    .dataframe thead th {\n",
       "        text-align: right;\n",
       "    }\n",
       "</style>\n",
       "<table border=\"1\" class=\"dataframe\">\n",
       "  <thead>\n",
       "    <tr style=\"text-align: right;\">\n",
       "      <th></th>\n",
       "      <th>숫자 특성</th>\n",
       "      <th>범주형 특성</th>\n",
       "    </tr>\n",
       "  </thead>\n",
       "  <tbody>\n",
       "    <tr>\n",
       "      <th>0</th>\n",
       "      <td>0</td>\n",
       "      <td>양말</td>\n",
       "    </tr>\n",
       "    <tr>\n",
       "      <th>1</th>\n",
       "      <td>1</td>\n",
       "      <td>여우</td>\n",
       "    </tr>\n",
       "    <tr>\n",
       "      <th>2</th>\n",
       "      <td>2</td>\n",
       "      <td>양말</td>\n",
       "    </tr>\n",
       "    <tr>\n",
       "      <th>3</th>\n",
       "      <td>1</td>\n",
       "      <td>상자</td>\n",
       "    </tr>\n",
       "  </tbody>\n",
       "</table>\n",
       "</div>"
      ],
      "text/plain": [
       "   숫자 특성 범주형 특성\n",
       "0      0     양말\n",
       "1      1     여우\n",
       "2      2     양말\n",
       "3      1     상자"
      ]
     },
     "metadata": {},
     "output_type": "display_data"
    }
   ],
   "source": [
    "demo_df = pd.DataFrame({'숫자 특성': [0, 1, 2, 1], '범주형 특성': ['양말', '여우', '양말', '상자']})\n",
    "display(demo_df)"
   ]
  },
  {
   "cell_type": "code",
   "execution_count": 14,
   "metadata": {
    "colab": {
     "base_uri": "https://localhost:8080/",
     "height": 173
    },
    "colab_type": "code",
    "executionInfo": {
     "elapsed": 781,
     "status": "ok",
     "timestamp": 1598177560386,
     "user": {
      "displayName": "oz To",
      "photoUrl": "",
      "userId": "12937505880450462933"
     },
     "user_tz": -540
    },
    "id": "ZQaV7oDr9awi",
    "outputId": "45fbdbac-30d0-48f1-93f9-866d6d8ce2ba",
    "slideshow": {
     "slide_type": "slide"
    }
   },
   "outputs": [
    {
     "data": {
      "text/html": [
       "<div>\n",
       "<style scoped>\n",
       "    .dataframe tbody tr th:only-of-type {\n",
       "        vertical-align: middle;\n",
       "    }\n",
       "\n",
       "    .dataframe tbody tr th {\n",
       "        vertical-align: top;\n",
       "    }\n",
       "\n",
       "    .dataframe thead th {\n",
       "        text-align: right;\n",
       "    }\n",
       "</style>\n",
       "<table border=\"1\" class=\"dataframe\">\n",
       "  <thead>\n",
       "    <tr style=\"text-align: right;\">\n",
       "      <th></th>\n",
       "      <th>숫자 특성</th>\n",
       "      <th>범주형 특성_상자</th>\n",
       "      <th>범주형 특성_양말</th>\n",
       "      <th>범주형 특성_여우</th>\n",
       "    </tr>\n",
       "  </thead>\n",
       "  <tbody>\n",
       "    <tr>\n",
       "      <th>0</th>\n",
       "      <td>0</td>\n",
       "      <td>0</td>\n",
       "      <td>1</td>\n",
       "      <td>0</td>\n",
       "    </tr>\n",
       "    <tr>\n",
       "      <th>1</th>\n",
       "      <td>1</td>\n",
       "      <td>0</td>\n",
       "      <td>0</td>\n",
       "      <td>1</td>\n",
       "    </tr>\n",
       "    <tr>\n",
       "      <th>2</th>\n",
       "      <td>2</td>\n",
       "      <td>0</td>\n",
       "      <td>1</td>\n",
       "      <td>0</td>\n",
       "    </tr>\n",
       "    <tr>\n",
       "      <th>3</th>\n",
       "      <td>1</td>\n",
       "      <td>1</td>\n",
       "      <td>0</td>\n",
       "      <td>0</td>\n",
       "    </tr>\n",
       "  </tbody>\n",
       "</table>\n",
       "</div>"
      ],
      "text/plain": [
       "   숫자 특성  범주형 특성_상자  범주형 특성_양말  범주형 특성_여우\n",
       "0      0          0          1          0\n",
       "1      1          0          0          1\n",
       "2      2          0          1          0\n",
       "3      1          1          0          0"
      ]
     },
     "execution_count": 14,
     "metadata": {},
     "output_type": "execute_result"
    }
   ],
   "source": [
    "# 원핫 인코딩\n",
    "pd.get_dummies(demo_df)"
   ]
  },
  {
   "cell_type": "markdown",
   "metadata": {
    "colab_type": "text",
    "id": "-2-CzJHYzZC5",
    "slideshow": {
     "slide_type": "slide"
    }
   },
   "source": [
    "- get_dummies 함수는 숫자 특성은 모두 연속형이라고 생각해서 가변수를 만들지 않음"
   ]
  },
  {
   "cell_type": "markdown",
   "metadata": {
    "colab_type": "text",
    "id": "_Hq4voR69fNF",
    "slideshow": {
     "slide_type": "slide"
    }
   },
   "source": [
    "#### 숫자로 표현된 범주형 특성의 원핫 인코딩\n",
    "\n",
    "- 숫자를 문자로 변환 한 후에 원핫 인코딩\n",
    "```\n",
    "demo_df['숫자'] = demo_df['숫자'].astype(str)\n",
    "pd.get_dummies(demo_df, columns=['숫자'])\n",
    "```"
   ]
  },
  {
   "cell_type": "code",
   "execution_count": 15,
   "metadata": {
    "colab": {
     "base_uri": "https://localhost:8080/",
     "height": 190
    },
    "colab_type": "code",
    "executionInfo": {
     "elapsed": 1437,
     "status": "ok",
     "timestamp": 1598177718082,
     "user": {
      "displayName": "oz To",
      "photoUrl": "",
      "userId": "12937505880450462933"
     },
     "user_tz": -540
    },
    "id": "Uyl-XO7o9yW9",
    "outputId": "26223108-781f-406f-91de-b84be7f555cf",
    "slideshow": {
     "slide_type": "slide"
    }
   },
   "outputs": [
    {
     "data": {
      "text/html": [
       "<div>\n",
       "<style scoped>\n",
       "    .dataframe tbody tr th:only-of-type {\n",
       "        vertical-align: middle;\n",
       "    }\n",
       "\n",
       "    .dataframe tbody tr th {\n",
       "        vertical-align: top;\n",
       "    }\n",
       "\n",
       "    .dataframe thead th {\n",
       "        text-align: right;\n",
       "    }\n",
       "</style>\n",
       "<table border=\"1\" class=\"dataframe\">\n",
       "  <thead>\n",
       "    <tr style=\"text-align: right;\">\n",
       "      <th></th>\n",
       "      <th>범주형 특성</th>\n",
       "      <th>숫자 특성_0</th>\n",
       "      <th>숫자 특성_1</th>\n",
       "      <th>숫자 특성_2</th>\n",
       "    </tr>\n",
       "  </thead>\n",
       "  <tbody>\n",
       "    <tr>\n",
       "      <th>0</th>\n",
       "      <td>양말</td>\n",
       "      <td>1</td>\n",
       "      <td>0</td>\n",
       "      <td>0</td>\n",
       "    </tr>\n",
       "    <tr>\n",
       "      <th>1</th>\n",
       "      <td>여우</td>\n",
       "      <td>0</td>\n",
       "      <td>1</td>\n",
       "      <td>0</td>\n",
       "    </tr>\n",
       "    <tr>\n",
       "      <th>2</th>\n",
       "      <td>양말</td>\n",
       "      <td>0</td>\n",
       "      <td>0</td>\n",
       "      <td>1</td>\n",
       "    </tr>\n",
       "    <tr>\n",
       "      <th>3</th>\n",
       "      <td>상자</td>\n",
       "      <td>0</td>\n",
       "      <td>1</td>\n",
       "      <td>0</td>\n",
       "    </tr>\n",
       "  </tbody>\n",
       "</table>\n",
       "</div>"
      ],
      "text/plain": [
       "  범주형 특성  숫자 특성_0  숫자 특성_1  숫자 특성_2\n",
       "0     양말        1        0        0\n",
       "1     여우        0        1        0\n",
       "2     양말        0        0        1\n",
       "3     상자        0        1        0"
      ]
     },
     "execution_count": 15,
     "metadata": {},
     "output_type": "execute_result"
    }
   ],
   "source": [
    "# 숫자를 문자로 변환 한 후에 원핫 인코딩\n",
    "demo_df['숫자 특성'] = demo_df['숫자 특성'].astype(str)\n",
    "pd.get_dummies(demo_df, columns=['숫자 특성'])"
   ]
  },
  {
   "cell_type": "markdown",
   "metadata": {
    "colab_type": "text",
    "id": "_VCJ2b2vUo3D",
    "slideshow": {
     "slide_type": "slide"
    }
   },
   "source": [
    "## 피처 스케일링(feature scaling)\n",
    "\n",
    "- 서로 다른 변수의 값 범위를 일정한 수준으로 맞추는 작업\n",
    "\n",
    "- 데이터의 스케일에 매우 민감한 머신러닝 알고리즘이 존재 (SVM, 신경망 등)"
   ]
  },
  {
   "cell_type": "markdown",
   "metadata": {
    "colab_type": "text",
    "id": "SyqpcsLkVmm7",
    "slideshow": {
     "slide_type": "slide"
    }
   },
   "source": [
    "- 표준화(Standardization) : 데이터의 특성 각각이 평균이 0이고 분산이 1인 가우시안 정규 분포를 가진 값으로 변환하는 것\n",
    "\n",
    "- 정규화(Normalization) : 서로 다른 특성의 크기를 통일하기 위해 크기를 변환해주는 것"
   ]
  },
  {
   "cell_type": "code",
   "execution_count": 16,
   "metadata": {
    "colab": {
     "base_uri": "https://localhost:8080/",
     "height": 364
    },
    "colab_type": "code",
    "executionInfo": {
     "elapsed": 1928,
     "status": "ok",
     "timestamp": 1598186349396,
     "user": {
      "displayName": "oz To",
      "photoUrl": "",
      "userId": "12937505880450462933"
     },
     "user_tz": -540
    },
    "id": "LBZjMIMxVDNx",
    "outputId": "5fb1ebef-ac9d-4226-da06-da10cce65ffb",
    "slideshow": {
     "slide_type": "slide"
    }
   },
   "outputs": [
    {
     "data": {
      "image/png": "[encoded data removed]",
      "text/plain": [
       "<Figure size 1080x576 with 5 Axes>"
      ]
     },
     "metadata": {
      "needs_background": "light"
     },
     "output_type": "display_data"
    }
   ],
   "source": [
    "# 데이터셋의 스케일을 조정하거나 전처리하는 여러 방법\n",
    "mglearn.plots.plot_scaling()"
   ]
  },
  {
   "cell_type": "markdown",
   "metadata": {
    "colab_type": "text",
    "id": "9HSGh2seWDdp",
    "slideshow": {
     "slide_type": "slide"
    }
   },
   "source": [
    "### StandardScaler\n",
    "\n",
    "- 표준화를 쉽게 지원하기 위한 클래스\n",
    "- 평균이 0이고, 분산이 1인 값으로 변환\n",
    "\n",
    "- 서포트 벡터 머신, 선형 회귀, 로지스틱 회귀는 데이터가 가우시안 분포를 가지고 있다고 가정하고 구현되었기에 표준화 적용이 필요"
   ]
  },
  {
   "cell_type": "code",
   "execution_count": 17,
   "metadata": {
    "colab": {
     "base_uri": "https://localhost:8080/",
     "height": 53
    },
    "colab_type": "code",
    "executionInfo": {
     "elapsed": 740,
     "status": "ok",
     "timestamp": 1598187681882,
     "user": {
      "displayName": "oz To",
      "photoUrl": "",
      "userId": "12937505880450462933"
     },
     "user_tz": -540
    },
    "id": "dvZQXar1XaXZ",
    "outputId": "8c2a8ac5-b118-4342-c8ea-2fb60c59b192",
    "slideshow": {
     "slide_type": "slide"
    }
   },
   "outputs": [
    {
     "name": "stdout",
     "output_type": "stream",
     "text": [
      "(426, 30)\n",
      "(143, 30)\n"
     ]
    }
   ],
   "source": [
    "from sklearn.datasets import load_breast_cancer\n",
    "from sklearn.model_selection import train_test_split\n",
    "\n",
    "cancer = load_breast_cancer()\n",
    "\n",
    "X_train, X_test, y_train, y_test = train_test_split(cancer.data, cancer.target,\n",
    "                                                    random_state=0)\n",
    "print(X_train.shape)\n",
    "print(X_test.shape)"
   ]
  },
  {
   "cell_type": "code",
   "execution_count": 18,
   "metadata": {
    "colab": {
     "base_uri": "https://localhost:8080/",
     "height": 35
    },
    "colab_type": "code",
    "executionInfo": {
     "elapsed": 468,
     "status": "ok",
     "timestamp": 1598187682240,
     "user": {
      "displayName": "oz To",
      "photoUrl": "",
      "userId": "12937505880450462933"
     },
     "user_tz": -540
    },
    "id": "widcNYqGXsAQ",
    "outputId": "f46ac0be-b6d7-42f7-e83a-d1c7b58b69c8",
    "slideshow": {
     "slide_type": "slide"
    }
   },
   "outputs": [
    {
     "data": {
      "text/plain": [
       "0.9440559440559441"
      ]
     },
     "execution_count": 18,
     "metadata": {},
     "output_type": "execute_result"
    }
   ],
   "source": [
    "from sklearn.svm import SVC\n",
    "\n",
    "# C=100\n",
    "model = SVC(C=100)\n",
    "model.fit(X_train, y_train)\n",
    "\n",
    "# 테스트 세트 정확도\n",
    "model.score(X_test, y_test)"
   ]
  },
  {
   "cell_type": "code",
   "execution_count": 19,
   "metadata": {
    "colab": {
     "base_uri": "https://localhost:8080/",
     "height": 35
    },
    "colab_type": "code",
    "executionInfo": {
     "elapsed": 575,
     "status": "ok",
     "timestamp": 1598187683092,
     "user": {
      "displayName": "oz To",
      "photoUrl": "",
      "userId": "12937505880450462933"
     },
     "user_tz": -540
    },
    "id": "lOQ4bBkTXz5f",
    "outputId": "4d0560ab-c82b-45af-fabd-710cf27fc24d",
    "slideshow": {
     "slide_type": "slide"
    }
   },
   "outputs": [
    {
     "data": {
      "text/plain": [
       "0.958041958041958"
      ]
     },
     "execution_count": 19,
     "metadata": {},
     "output_type": "execute_result"
    }
   ],
   "source": [
    "# 평균 0, 분산 1을 갖도록 스케일 조정\n",
    "from sklearn.preprocessing import StandardScaler\n",
    "\n",
    "# 주의 : 변환을 위하 기준 정보 설정\n",
    "# 학습 데이터와 테스트 데이터의 스케일링 기준 정보를 동일하게 유지\n",
    "scaler = StandardScaler()\n",
    "scaler.fit(X_train)\n",
    "X_train_scaler = scaler.transform(X_train)\n",
    "X_test_scaler = scaler.transform(X_test)\n",
    "\n",
    "\n",
    "# 조정된 데이터로 SVM 학습\n",
    "model.fit(X_train_scaler, y_train)\n",
    "\n",
    "# 스케일 조정된 테스트 세트의 정확도\n",
    "model.score(X_test_scaler, y_test)"
   ]
  },
  {
   "cell_type": "code",
   "execution_count": 20,
   "metadata": {
    "colab": {
     "base_uri": "https://localhost:8080/",
     "height": 1000
    },
    "colab_type": "code",
    "executionInfo": {
     "elapsed": 596,
     "status": "ok",
     "timestamp": 1598187684041,
     "user": {
      "displayName": "oz To",
      "photoUrl": "",
      "userId": "12937505880450462933"
     },
     "user_tz": -540
    },
    "id": "_zoWHqXPYVe7",
    "outputId": "583971cf-4133-420c-ede3-cca3cc19aac8",
    "slideshow": {
     "slide_type": "slide"
    }
   },
   "outputs": [
    {
     "data": {
      "text/plain": [
       "0     1.002353\n",
       "1     1.002353\n",
       "2     1.002353\n",
       "3     1.002353\n",
       "4     1.002353\n",
       "5     1.002353\n",
       "6     1.002353\n",
       "7     1.002353\n",
       "8     1.002353\n",
       "9     1.002353\n",
       "10    1.002353\n",
       "11    1.002353\n",
       "12    1.002353\n",
       "13    1.002353\n",
       "14    1.002353\n",
       "15    1.002353\n",
       "16    1.002353\n",
       "17    1.002353\n",
       "18    1.002353\n",
       "19    1.002353\n",
       "20    1.002353\n",
       "21    1.002353\n",
       "22    1.002353\n",
       "23    1.002353\n",
       "24    1.002353\n",
       "25    1.002353\n",
       "26    1.002353\n",
       "27    1.002353\n",
       "28    1.002353\n",
       "29    1.002353\n",
       "dtype: float64"
      ]
     },
     "execution_count": 20,
     "metadata": {},
     "output_type": "execute_result"
    }
   ],
   "source": [
    "import pandas as pd\n",
    "\n",
    "# 특성들의 평균값과 분산값\n",
    "df = pd.DataFrame(X_train_scaler)\n",
    "df.mean()\n",
    "df.var()"
   ]
  },
  {
   "cell_type": "markdown",
   "metadata": {
    "colab_type": "text",
    "id": "apQ-Wg86ZVpx",
    "slideshow": {
     "slide_type": "slide"
    }
   },
   "source": [
    "- 특성의 평균이 0에 아주 가까운 값으로, 분산은 1에 아주 가까운 값으로 변환"
   ]
  },
  {
   "cell_type": "markdown",
   "metadata": {
    "colab_type": "text",
    "id": "lkWYDLm_X8E_",
    "slideshow": {
     "slide_type": "slide"
    }
   },
   "source": [
    "### MinMaxScaler\n",
    "\n",
    "- 정규화를 쉽게 지원하기 위한 클래스\n",
    "- 데이터값을 0과 1사이의 범위 값으로 변환\n"
   ]
  },
  {
   "cell_type": "code",
   "execution_count": 21,
   "metadata": {
    "colab": {
     "base_uri": "https://localhost:8080/",
     "height": 35
    },
    "colab_type": "code",
    "executionInfo": {
     "elapsed": 892,
     "status": "ok",
     "timestamp": 1598187780043,
     "user": {
      "displayName": "oz To",
      "photoUrl": "",
      "userId": "12937505880450462933"
     },
     "user_tz": -540
    },
    "id": "-nxLRaxHZdp3",
    "outputId": "e34741ea-406b-477d-e672-7798f93433f1",
    "slideshow": {
     "slide_type": "slide"
    }
   },
   "outputs": [
    {
     "data": {
      "text/plain": [
       "0.965034965034965"
      ]
     },
     "execution_count": 21,
     "metadata": {},
     "output_type": "execute_result"
    }
   ],
   "source": [
    "from sklearn.preprocessing import MinMaxScaler\n",
    "\n",
    "# 0~1 사이로 스케일 조정\n",
    "scaler = MinMaxScaler()\n",
    "scaler.fit(X_train)\n",
    "X_train_scaler = scaler.transform(X_train)\n",
    "X_test_scaler = scaler.transform(X_test)\n",
    "\n",
    "\n",
    "# 조정된 데이터로 SVM 학습\n",
    "model.fit(X_train_scaler, y_train)\n",
    "\n",
    "# 스케일 조정된 테스트 세트의 정확도\n",
    "model.score(X_test_scaler, y_test)"
   ]
  },
  {
   "cell_type": "code",
   "execution_count": 22,
   "metadata": {
    "colab": {
     "base_uri": "https://localhost:8080/",
     "height": 1000
    },
    "colab_type": "code",
    "executionInfo": {
     "elapsed": 792,
     "status": "ok",
     "timestamp": 1598187781564,
     "user": {
      "displayName": "oz To",
      "photoUrl": "",
      "userId": "12937505880450462933"
     },
     "user_tz": -540
    },
    "id": "Pph1_K-FaENi",
    "outputId": "243f7e76-e487-4465-8acf-d182135b579e",
    "slideshow": {
     "slide_type": "slide"
    }
   },
   "outputs": [
    {
     "data": {
      "text/html": [
       "<div>\n",
       "<style scoped>\n",
       "    .dataframe tbody tr th:only-of-type {\n",
       "        vertical-align: middle;\n",
       "    }\n",
       "\n",
       "    .dataframe tbody tr th {\n",
       "        vertical-align: top;\n",
       "    }\n",
       "\n",
       "    .dataframe thead th {\n",
       "        text-align: right;\n",
       "    }\n",
       "</style>\n",
       "<table border=\"1\" class=\"dataframe\">\n",
       "  <thead>\n",
       "    <tr style=\"text-align: right;\">\n",
       "      <th></th>\n",
       "      <th>0</th>\n",
       "      <th>1</th>\n",
       "      <th>2</th>\n",
       "      <th>3</th>\n",
       "      <th>4</th>\n",
       "      <th>5</th>\n",
       "      <th>6</th>\n",
       "      <th>7</th>\n",
       "      <th>8</th>\n",
       "      <th>9</th>\n",
       "      <th>...</th>\n",
       "      <th>20</th>\n",
       "      <th>21</th>\n",
       "      <th>22</th>\n",
       "      <th>23</th>\n",
       "      <th>24</th>\n",
       "      <th>25</th>\n",
       "      <th>26</th>\n",
       "      <th>27</th>\n",
       "      <th>28</th>\n",
       "      <th>29</th>\n",
       "    </tr>\n",
       "  </thead>\n",
       "  <tbody>\n",
       "    <tr>\n",
       "      <th>0</th>\n",
       "      <td>0.230442</td>\n",
       "      <td>0.321577</td>\n",
       "      <td>0.219404</td>\n",
       "      <td>0.122672</td>\n",
       "      <td>0.337678</td>\n",
       "      <td>0.126841</td>\n",
       "      <td>0.062980</td>\n",
       "      <td>0.113320</td>\n",
       "      <td>0.411616</td>\n",
       "      <td>0.151432</td>\n",
       "      <td>...</td>\n",
       "      <td>0.182497</td>\n",
       "      <td>0.365938</td>\n",
       "      <td>0.169032</td>\n",
       "      <td>0.081744</td>\n",
       "      <td>0.434062</td>\n",
       "      <td>0.144085</td>\n",
       "      <td>0.105112</td>\n",
       "      <td>0.314847</td>\n",
       "      <td>0.302779</td>\n",
       "      <td>0.098583</td>\n",
       "    </tr>\n",
       "    <tr>\n",
       "      <th>1</th>\n",
       "      <td>0.200625</td>\n",
       "      <td>0.421162</td>\n",
       "      <td>0.194527</td>\n",
       "      <td>0.103415</td>\n",
       "      <td>0.573151</td>\n",
       "      <td>0.165776</td>\n",
       "      <td>0.011729</td>\n",
       "      <td>0.037689</td>\n",
       "      <td>0.444444</td>\n",
       "      <td>0.217355</td>\n",
       "      <td>...</td>\n",
       "      <td>0.144077</td>\n",
       "      <td>0.366738</td>\n",
       "      <td>0.131979</td>\n",
       "      <td>0.061664</td>\n",
       "      <td>0.470382</td>\n",
       "      <td>0.067332</td>\n",
       "      <td>0.010663</td>\n",
       "      <td>0.069652</td>\n",
       "      <td>0.340430</td>\n",
       "      <td>0.066772</td>\n",
       "    </tr>\n",
       "    <tr>\n",
       "      <th>2</th>\n",
       "      <td>0.622320</td>\n",
       "      <td>0.769295</td>\n",
       "      <td>0.604036</td>\n",
       "      <td>0.474019</td>\n",
       "      <td>0.490605</td>\n",
       "      <td>0.287720</td>\n",
       "      <td>0.337395</td>\n",
       "      <td>0.486630</td>\n",
       "      <td>0.349495</td>\n",
       "      <td>0.113100</td>\n",
       "      <td>...</td>\n",
       "      <td>0.560655</td>\n",
       "      <td>0.699094</td>\n",
       "      <td>0.520892</td>\n",
       "      <td>0.379915</td>\n",
       "      <td>0.300007</td>\n",
       "      <td>0.159997</td>\n",
       "      <td>0.256789</td>\n",
       "      <td>0.560799</td>\n",
       "      <td>0.198502</td>\n",
       "      <td>0.074315</td>\n",
       "    </tr>\n",
       "    <tr>\n",
       "      <th>3</th>\n",
       "      <td>0.312793</td>\n",
       "      <td>0.337344</td>\n",
       "      <td>0.293345</td>\n",
       "      <td>0.181888</td>\n",
       "      <td>0.291626</td>\n",
       "      <td>0.072392</td>\n",
       "      <td>0.046790</td>\n",
       "      <td>0.061531</td>\n",
       "      <td>0.259091</td>\n",
       "      <td>0.110362</td>\n",
       "      <td>...</td>\n",
       "      <td>0.269299</td>\n",
       "      <td>0.375267</td>\n",
       "      <td>0.241546</td>\n",
       "      <td>0.136134</td>\n",
       "      <td>0.223404</td>\n",
       "      <td>0.047472</td>\n",
       "      <td>0.084665</td>\n",
       "      <td>0.178608</td>\n",
       "      <td>0.151784</td>\n",
       "      <td>0.049784</td>\n",
       "    </tr>\n",
       "    <tr>\n",
       "      <th>4</th>\n",
       "      <td>0.459511</td>\n",
       "      <td>0.435270</td>\n",
       "      <td>0.437496</td>\n",
       "      <td>0.302906</td>\n",
       "      <td>0.242641</td>\n",
       "      <td>0.177180</td>\n",
       "      <td>0.085497</td>\n",
       "      <td>0.114662</td>\n",
       "      <td>0.396970</td>\n",
       "      <td>0.069292</td>\n",
       "      <td>...</td>\n",
       "      <td>0.400213</td>\n",
       "      <td>0.387527</td>\n",
       "      <td>0.382937</td>\n",
       "      <td>0.220901</td>\n",
       "      <td>0.196328</td>\n",
       "      <td>0.256823</td>\n",
       "      <td>0.197843</td>\n",
       "      <td>0.300965</td>\n",
       "      <td>0.613444</td>\n",
       "      <td>0.138987</td>\n",
       "    </tr>\n",
       "    <tr>\n",
       "      <th>...</th>\n",
       "      <td>...</td>\n",
       "      <td>...</td>\n",
       "      <td>...</td>\n",
       "      <td>...</td>\n",
       "      <td>...</td>\n",
       "      <td>...</td>\n",
       "      <td>...</td>\n",
       "      <td>...</td>\n",
       "      <td>...</td>\n",
       "      <td>...</td>\n",
       "      <td>...</td>\n",
       "      <td>...</td>\n",
       "      <td>...</td>\n",
       "      <td>...</td>\n",
       "      <td>...</td>\n",
       "      <td>...</td>\n",
       "      <td>...</td>\n",
       "      <td>...</td>\n",
       "      <td>...</td>\n",
       "      <td>...</td>\n",
       "      <td>...</td>\n",
       "    </tr>\n",
       "    <tr>\n",
       "      <th>421</th>\n",
       "      <td>0.559847</td>\n",
       "      <td>0.426141</td>\n",
       "      <td>0.532859</td>\n",
       "      <td>0.406575</td>\n",
       "      <td>0.397524</td>\n",
       "      <td>0.135128</td>\n",
       "      <td>0.187910</td>\n",
       "      <td>0.290408</td>\n",
       "      <td>0.247475</td>\n",
       "      <td>0.000000</td>\n",
       "      <td>...</td>\n",
       "      <td>0.427962</td>\n",
       "      <td>0.327292</td>\n",
       "      <td>0.391404</td>\n",
       "      <td>0.258258</td>\n",
       "      <td>0.350855</td>\n",
       "      <td>0.086067</td>\n",
       "      <td>0.176518</td>\n",
       "      <td>0.445746</td>\n",
       "      <td>0.197516</td>\n",
       "      <td>0.015283</td>\n",
       "    </tr>\n",
       "    <tr>\n",
       "      <th>422</th>\n",
       "      <td>0.259312</td>\n",
       "      <td>0.594606</td>\n",
       "      <td>0.277659</td>\n",
       "      <td>0.140997</td>\n",
       "      <td>0.716520</td>\n",
       "      <td>0.754126</td>\n",
       "      <td>0.532568</td>\n",
       "      <td>0.424602</td>\n",
       "      <td>0.489899</td>\n",
       "      <td>0.683867</td>\n",
       "      <td>...</td>\n",
       "      <td>0.254714</td>\n",
       "      <td>0.763859</td>\n",
       "      <td>0.235271</td>\n",
       "      <td>0.129326</td>\n",
       "      <td>0.753682</td>\n",
       "      <td>1.000000</td>\n",
       "      <td>0.882588</td>\n",
       "      <td>0.761281</td>\n",
       "      <td>0.552139</td>\n",
       "      <td>1.000000</td>\n",
       "    </tr>\n",
       "    <tr>\n",
       "      <th>423</th>\n",
       "      <td>0.116191</td>\n",
       "      <td>0.357261</td>\n",
       "      <td>0.110773</td>\n",
       "      <td>0.057306</td>\n",
       "      <td>0.524275</td>\n",
       "      <td>0.137593</td>\n",
       "      <td>0.063496</td>\n",
       "      <td>0.069881</td>\n",
       "      <td>0.225253</td>\n",
       "      <td>0.413437</td>\n",
       "      <td>...</td>\n",
       "      <td>0.145500</td>\n",
       "      <td>0.346482</td>\n",
       "      <td>0.126401</td>\n",
       "      <td>0.062525</td>\n",
       "      <td>0.410289</td>\n",
       "      <td>0.075298</td>\n",
       "      <td>0.091374</td>\n",
       "      <td>0.174027</td>\n",
       "      <td>0.175241</td>\n",
       "      <td>0.172635</td>\n",
       "    </tr>\n",
       "    <tr>\n",
       "      <th>424</th>\n",
       "      <td>0.129632</td>\n",
       "      <td>0.353112</td>\n",
       "      <td>0.117062</td>\n",
       "      <td>0.061336</td>\n",
       "      <td>0.183230</td>\n",
       "      <td>0.013903</td>\n",
       "      <td>0.000000</td>\n",
       "      <td>0.000000</td>\n",
       "      <td>0.299495</td>\n",
       "      <td>0.305602</td>\n",
       "      <td>...</td>\n",
       "      <td>0.072501</td>\n",
       "      <td>0.234808</td>\n",
       "      <td>0.058967</td>\n",
       "      <td>0.029149</td>\n",
       "      <td>0.000000</td>\n",
       "      <td>0.000000</td>\n",
       "      <td>0.000000</td>\n",
       "      <td>0.000000</td>\n",
       "      <td>0.067810</td>\n",
       "      <td>0.069198</td>\n",
       "    </tr>\n",
       "    <tr>\n",
       "      <th>425</th>\n",
       "      <td>0.214350</td>\n",
       "      <td>0.590041</td>\n",
       "      <td>0.212356</td>\n",
       "      <td>0.110286</td>\n",
       "      <td>0.434235</td>\n",
       "      <td>0.283268</td>\n",
       "      <td>0.260544</td>\n",
       "      <td>0.204026</td>\n",
       "      <td>0.165657</td>\n",
       "      <td>0.331508</td>\n",
       "      <td>...</td>\n",
       "      <td>0.161864</td>\n",
       "      <td>0.670043</td>\n",
       "      <td>0.158723</td>\n",
       "      <td>0.071028</td>\n",
       "      <td>0.387176</td>\n",
       "      <td>0.217724</td>\n",
       "      <td>0.289936</td>\n",
       "      <td>0.332518</td>\n",
       "      <td>0.107826</td>\n",
       "      <td>0.211728</td>\n",
       "    </tr>\n",
       "  </tbody>\n",
       "</table>\n",
       "<p>426 rows × 30 columns</p>\n",
       "</div>"
      ],
      "text/plain": [
       "           0         1         2         3         4         5         6   \\\n",
       "0    0.230442  0.321577  0.219404  0.122672  0.337678  0.126841  0.062980   \n",
       "1    0.200625  0.421162  0.194527  0.103415  0.573151  0.165776  0.011729   \n",
       "2    0.622320  0.769295  0.604036  0.474019  0.490605  0.287720  0.337395   \n",
       "3    0.312793  0.337344  0.293345  0.181888  0.291626  0.072392  0.046790   \n",
       "4    0.459511  0.435270  0.437496  0.302906  0.242641  0.177180  0.085497   \n",
       "..        ...       ...       ...       ...       ...       ...       ...   \n",
       "421  0.559847  0.426141  0.532859  0.406575  0.397524  0.135128  0.187910   \n",
       "422  0.259312  0.594606  0.277659  0.140997  0.716520  0.754126  0.532568   \n",
       "423  0.116191  0.357261  0.110773  0.057306  0.524275  0.137593  0.063496   \n",
       "424  0.129632  0.353112  0.117062  0.061336  0.183230  0.013903  0.000000   \n",
       "425  0.214350  0.590041  0.212356  0.110286  0.434235  0.283268  0.260544   \n",
       "\n",
       "           7         8         9   ...        20        21        22  \\\n",
       "0    0.113320  0.411616  0.151432  ...  0.182497  0.365938  0.169032   \n",
       "1    0.037689  0.444444  0.217355  ...  0.144077  0.366738  0.131979   \n",
       "2    0.486630  0.349495  0.113100  ...  0.560655  0.699094  0.520892   \n",
       "3    0.061531  0.259091  0.110362  ...  0.269299  0.375267  0.241546   \n",
       "4    0.114662  0.396970  0.069292  ...  0.400213  0.387527  0.382937   \n",
       "..        ...       ...       ...  ...       ...       ...       ...   \n",
       "421  0.290408  0.247475  0.000000  ...  0.427962  0.327292  0.391404   \n",
       "422  0.424602  0.489899  0.683867  ...  0.254714  0.763859  0.235271   \n",
       "423  0.069881  0.225253  0.413437  ...  0.145500  0.346482  0.126401   \n",
       "424  0.000000  0.299495  0.305602  ...  0.072501  0.234808  0.058967   \n",
       "425  0.204026  0.165657  0.331508  ...  0.161864  0.670043  0.158723   \n",
       "\n",
       "           23        24        25        26        27        28        29  \n",
       "0    0.081744  0.434062  0.144085  0.105112  0.314847  0.302779  0.098583  \n",
       "1    0.061664  0.470382  0.067332  0.010663  0.069652  0.340430  0.066772  \n",
       "2    0.379915  0.300007  0.159997  0.256789  0.560799  0.198502  0.074315  \n",
       "3    0.136134  0.223404  0.047472  0.084665  0.178608  0.151784  0.049784  \n",
       "4    0.220901  0.196328  0.256823  0.197843  0.300965  0.613444  0.138987  \n",
       "..        ...       ...       ...       ...       ...       ...       ...  \n",
       "421  0.258258  0.350855  0.086067  0.176518  0.445746  0.197516  0.015283  \n",
       "422  0.129326  0.753682  1.000000  0.882588  0.761281  0.552139  1.000000  \n",
       "423  0.062525  0.410289  0.075298  0.091374  0.174027  0.175241  0.172635  \n",
       "424  0.029149  0.000000  0.000000  0.000000  0.000000  0.067810  0.069198  \n",
       "425  0.071028  0.387176  0.217724  0.289936  0.332518  0.107826  0.211728  \n",
       "\n",
       "[426 rows x 30 columns]"
      ]
     },
     "execution_count": 22,
     "metadata": {},
     "output_type": "execute_result"
    }
   ],
   "source": [
    "# 특성들의 최소값과 최대값\n",
    "df = pd.DataFrame(X_train_scaler)\n",
    "df"
   ]
  },
  {
   "cell_type": "markdown",
   "metadata": {
    "colab_type": "text",
    "id": "MXsZG6vX1XHI",
    "slideshow": {
     "slide_type": "slide"
    }
   },
   "source": [
    "# 특성 공학(feature engineering)\n",
    "\n",
    "- 특정 애플리케이션에 가장 적합한 데이터 표현을 찾는 것"
   ]
  },
  {
   "cell_type": "markdown",
   "metadata": {
    "colab_type": "text",
    "id": "ModrI2jr29t1",
    "slideshow": {
     "slide_type": "slide"
    }
   },
   "source": [
    "- 데이터를 가장 잘 표현하는 방법은 데이터가 가진 의미뿐 아니라 어떤 모델을 사용하는지에 따라 다름\n",
    "\n",
    " - 구간분할(bining) : 한 특성을 여러 특성으로 나누는 것 (이산화)\n",
    "\n",
    " - 용량이 매우 크고 고차원 데이터셋이라 선형 모델을 사용해야 한다면 구간 분할이 모델 성능을 높이는데 도움이 됨\n",
    "\n",
    "- 원본 데이터에 상호작용(interaction)과 다항식(polyonmial) 특성을 추가"
   ]
  },
  {
   "cell_type": "markdown",
   "metadata": {
    "colab_type": "text",
    "id": "d3Uo5Hrb-oLR",
    "slideshow": {
     "slide_type": "slide"
    }
   },
   "source": [
    "## 특성 자동 선택\n",
    "\n",
    "- 특성이 추가되면 모델이 복잡해지고 과대적합 가능성이 올라감\n",
    "\n",
    "- 유용한 특성만 선택하고 나머지는 무시해서 특성의 수를 줄이는 것이 좋음.\n",
    "\n",
    "- 특성 선택 방법 : 일변량 통계, 모델 기반 선택, 반복적 선택\n"
   ]
  },
  {
   "cell_type": "markdown",
   "metadata": {
    "colab_type": "text",
    "id": "rbOzCsWO_3ZP",
    "slideshow": {
     "slide_type": "slide"
    }
   },
   "source": [
    "### 일변량 통계(univariate statistics)\n",
    "\n",
    "- 특성과 타켓 사이에 중용한 통계적 관계가 있는지 계산하고 깊게 관련된 것만 선택"
   ]
  },
  {
   "cell_type": "code",
   "execution_count": 23,
   "metadata": {
    "colab": {
     "base_uri": "https://localhost:8080/",
     "height": 53
    },
    "colab_type": "code",
    "executionInfo": {
     "elapsed": 819,
     "status": "ok",
     "timestamp": 1598178879411,
     "user": {
      "displayName": "oz To",
      "photoUrl": "",
      "userId": "12937505880450462933"
     },
     "user_tz": -540
    },
    "id": "L9UxIvj2AFNF",
    "outputId": "545ea389-2a5c-42d9-a38d-17c3071b49f9",
    "slideshow": {
     "slide_type": "slide"
    }
   },
   "outputs": [
    {
     "data": {
      "text/plain": [
       "((284, 80), (284, 40))"
      ]
     },
     "execution_count": 23,
     "metadata": {},
     "output_type": "execute_result"
    }
   ],
   "source": [
    "# 의미 없는 노이즈 특성을 추가하고, 식별해서 제거하는지 확인\n",
    "from sklearn.datasets import load_breast_cancer\n",
    "from sklearn.feature_selection import SelectPercentile, f_classif\n",
    "from sklearn.model_selection import train_test_split\n",
    "import numpy as np\n",
    "import matplotlib.pyplot as plt\n",
    "\n",
    "cancer = load_breast_cancer()\n",
    "\n",
    "# 고정된 난수를 발생\n",
    "rng = np.random.RandomState(42)\n",
    "noise = rng.normal(size=(len(cancer.data), 50))\n",
    "\n",
    "# 데이터에 노이즈 특성을 추가\n",
    "# 처음 30개는 원본 특성이고 다음 50개는 노이즈\n",
    "X_w_noise = np.hstack([cancer.data, noise])\n",
    "\n",
    "X_train, X_test, y_train, y_test = train_test_split(X_w_noise, \n",
    "                                                    cancer.target, \n",
    "                                                    random_state=0, \n",
    "                                                    test_size=.5)\n",
    "\n",
    "# SelectPercentile을 사용하여 특성의 50%를 선택\n",
    "select = SelectPercentile(percentile=50)\n",
    "select.fit(X_train, y_train)\n",
    "\n",
    "# 훈련 세트에 적용\n",
    "X_train_selected = select.transform(X_train)\n",
    "X_test_selected = select.transform(X_test)\n",
    "\n",
    "# 훈련 세트 모양 비교\n",
    "X_train.shape, X_train_selected.shape\n"
   ]
  },
  {
   "cell_type": "markdown",
   "metadata": {
    "colab_type": "text",
    "id": "gMV2AWxg9Dre",
    "slideshow": {
     "slide_type": "slide"
    }
   },
   "source": [
    "- 특성 개수가 80개에서 40개로 줄었음(원본 특성의 50%)"
   ]
  },
  {
   "cell_type": "code",
   "execution_count": 24,
   "metadata": {
    "colab": {
     "base_uri": "https://localhost:8080/",
     "height": 181
    },
    "colab_type": "code",
    "executionInfo": {
     "elapsed": 801,
     "status": "ok",
     "timestamp": 1598180204255,
     "user": {
      "displayName": "oz To",
      "photoUrl": "",
      "userId": "12937505880450462933"
     },
     "user_tz": -540
    },
    "id": "zXqs_SvtAVP8",
    "outputId": "9c89520d-e833-44ff-b1e0-1ad66d290b9d",
    "slideshow": {
     "slide_type": "slide"
    }
   },
   "outputs": [
    {
     "data": {
      "text/plain": [
       "([<matplotlib.axis.YTick at 0x2598e45ae88>],\n",
       " <a list of 1 Text yticklabel objects>)"
      ]
     },
     "execution_count": 24,
     "metadata": {},
     "output_type": "execute_result"
    },
    {
     "data": {
      "image/png": "[encoded data removed]",
      "text/plain": [
       "<Figure size 1152x144 with 1 Axes>"
      ]
     },
     "metadata": {
      "needs_background": "light"
     },
     "output_type": "display_data"
    }
   ],
   "source": [
    "# 선택된 특성을 boolen 값으로 표시\n",
    "mask = select.get_support()\n",
    "\n",
    "# True는 검은색, False는 흰색으로 마스킹\n",
    "plt.matshow(mask.reshape(1,-1), cmap='gray_r')\n",
    "plt.yticks([0])"
   ]
  },
  {
   "cell_type": "markdown",
   "metadata": {
    "colab_type": "text",
    "id": "q3rkhYCr9178",
    "slideshow": {
     "slide_type": "slide"
    }
   },
   "source": [
    "- 선택된 특성은 대부분 원본 특성이고 노이즈 특성이 거의 모두 제거"
   ]
  },
  {
   "cell_type": "markdown",
   "metadata": {
    "colab_type": "text",
    "id": "uaglCaRlA4l8",
    "slideshow": {
     "slide_type": "slide"
    }
   },
   "source": [
    "전체 특성을 이용했을 때와 선택된 특성만 사용했을 때의 성능 비교"
   ]
  },
  {
   "cell_type": "code",
   "execution_count": 25,
   "metadata": {
    "colab": {
     "base_uri": "https://localhost:8080/",
     "height": 53
    },
    "colab_type": "code",
    "executionInfo": {
     "elapsed": 752,
     "status": "ok",
     "timestamp": 1598180369735,
     "user": {
      "displayName": "oz To",
      "photoUrl": "",
      "userId": "12937505880450462933"
     },
     "user_tz": -540
    },
    "id": "MS27KZzAA1j1",
    "outputId": "a95a3d43-c765-4810-8a1b-4a83c7e67859",
    "slideshow": {
     "slide_type": "slide"
    }
   },
   "outputs": [
    {
     "data": {
      "text/plain": [
       "(0.9298245614035088, 0.9403508771929825)"
      ]
     },
     "execution_count": 25,
     "metadata": {},
     "output_type": "execute_result"
    }
   ],
   "source": [
    "from sklearn.linear_model import LogisticRegression\n",
    "\n",
    "# 특성 선택\n",
    "X_test_selected = select.transform(X_test)\n",
    "\n",
    "model = LogisticRegression(solver='liblinear')\n",
    "\n",
    "# 전체 특성을 사용한 점수\n",
    "model.fit(X_train, y_train)\n",
    "score = model.score(X_test, y_test)\n",
    "\n",
    "# 선택된 일부 특성을 사용한 점수\n",
    "model.fit(X_train_selected, y_train)\n",
    "score1 = model.score(X_test_selected, y_test)\n",
    "\n",
    "score, score1"
   ]
  },
  {
   "cell_type": "markdown",
   "metadata": {
    "colab_type": "text",
    "id": "vt-P9FDP-VUk",
    "slideshow": {
     "slide_type": "slide"
    }
   },
   "source": [
    "- 일부 원본 특성이 없더라도 노이즈 특성을 제거한 쪽의 성능이 더 높음\n",
    "- 너무 많은 특성 때문에 모델을 만들기가 현실적으로 어려울 때 사용\n",
    "- 많은 특성들이 확실히 도움이 안 된다고 생각될 때 사용"
   ]
  },
  {
   "cell_type": "markdown",
   "metadata": {
    "colab_type": "text",
    "id": "kcbT93-nBqJu",
    "slideshow": {
     "slide_type": "slide"
    }
   },
   "source": [
    "### 모델 기반 선택(model-based selection)\n",
    "\n",
    "- 지도 학습 머신러닝 모델을 사용하여 특성의 중요도를 평가해서 가장 중요한 것만 선택\n",
    "\n",
    "- 지도학습 모델은 최종적으로 사용할 학습 모델과 같은 필요는 없음\n",
    "\n",
    "- 특성 선택을 위한 모델은 각 특성의 중요도를 측정하여 순서 매길 수 있어야 함\n",
    "\n",
    "- 결정트리 기반의 모델들은 각 특성의 중요도를 feature_importances_에 저장"
   ]
  },
  {
   "cell_type": "code",
   "execution_count": 26,
   "metadata": {
    "colab": {},
    "colab_type": "code",
    "executionInfo": {
     "elapsed": 711,
     "status": "ok",
     "timestamp": 1598180686153,
     "user": {
      "displayName": "oz To",
      "photoUrl": "",
      "userId": "12937505880450462933"
     },
     "user_tz": -540
    },
    "id": "W1HHTRohCMt1",
    "slideshow": {
     "slide_type": "slide"
    }
   },
   "outputs": [],
   "source": [
    "from sklearn.feature_selection import SelectFromModel\n",
    "from sklearn.ensemble import RandomForestClassifier\n",
    "\n",
    "# (지도 학습 모델로 계산된) 중요도가 지정한 임계치보다 큰 모든 특성 선택\n",
    "# 일변량 분석으로 선택한 특성과 결과를 비교하기 위해 \n",
    "# 절반 가량의 특성이 선택될수 있도록 중간값을 임계치로 사용\n",
    "select1 = SelectFromModel(RandomForestClassifier(n_estimators=100, random_state= 0),\n",
    "                         threshold='median')"
   ]
  },
  {
   "cell_type": "code",
   "execution_count": 27,
   "metadata": {
    "colab": {
     "base_uri": "https://localhost:8080/",
     "height": 53
    },
    "colab_type": "code",
    "executionInfo": {
     "elapsed": 753,
     "status": "ok",
     "timestamp": 1598180781793,
     "user": {
      "displayName": "oz To",
      "photoUrl": "",
      "userId": "12937505880450462933"
     },
     "user_tz": -540
    },
    "id": "dPhR_olNCbKV",
    "outputId": "ca706414-d7c4-4eb2-96af-181c6c250013",
    "slideshow": {
     "slide_type": "slide"
    }
   },
   "outputs": [
    {
     "data": {
      "text/plain": [
       "(0.9298245614035088, 0.9403508771929825)"
      ]
     },
     "execution_count": 27,
     "metadata": {},
     "output_type": "execute_result"
    }
   ],
   "source": [
    "# 특성 선택\n",
    "select1.fit(X_train, y_train)\n",
    "X_train_selected1 = select1.transform(X_train)\n",
    "X_test_selected1 = select1.transform(X_test)\n",
    "\n",
    "model = RandomForestClassifier(n_estimators=100, random_state=0)\n",
    "\n",
    "# 전체 특성을 사용한 점수\n",
    "model.fit(X_train, y_train)\n",
    "score = model.score(X_test, y_test)\n",
    "\n",
    "# 선택된 일부 특성을 사용한 점수\n",
    "model.fit(X_train_selected1, y_train)\n",
    "score1 = model.score(X_test_selected1, y_test)\n",
    "\n",
    "score, score1"
   ]
  },
  {
   "cell_type": "code",
   "execution_count": 28,
   "metadata": {},
   "outputs": [
    {
     "data": {
      "text/plain": [
       "([<matplotlib.axis.YTick at 0x2598d669a88>],\n",
       " <a list of 1 Text yticklabel objects>)"
      ]
     },
     "execution_count": 28,
     "metadata": {},
     "output_type": "execute_result"
    },
    {
     "data": {
      "image/png": "[encoded data removed]",
      "text/plain": [
       "<Figure size 1152x144 with 1 Axes>"
      ]
     },
     "metadata": {
      "needs_background": "light"
     },
     "output_type": "display_data"
    }
   ],
   "source": [
    "# 선택된 특성을 boolen 값으로 표시\n",
    "mask = select1.get_support()\n",
    "\n",
    "# True는 검은색, False는 흰색으로 마스킹\n",
    "plt.matshow(mask.reshape(1,-1), cmap='gray_r')\n",
    "plt.yticks([0])"
   ]
  },
  {
   "cell_type": "markdown",
   "metadata": {
    "colab_type": "text",
    "id": "c9RTkuiICtFF",
    "slideshow": {
     "slide_type": "slide"
    }
   },
   "source": [
    "- 두 개를 제외한 모든 원본 특성이 선택 (특성을 40개 선택 -> 일부 노이즈도 선택) \n",
    "\n"
   ]
  },
  {
   "cell_type": "code",
   "execution_count": 29,
   "metadata": {
    "colab": {
     "base_uri": "https://localhost:8080/",
     "height": 35
    },
    "colab_type": "code",
    "executionInfo": {
     "elapsed": 766,
     "status": "ok",
     "timestamp": 1598180993245,
     "user": {
      "displayName": "oz To",
      "photoUrl": "",
      "userId": "12937505880450462933"
     },
     "user_tz": -540
    },
    "id": "gksVQhEPDN00",
    "outputId": "df0f0b62-6ff2-4fe0-8dd0-afbdabfcecb2",
    "slideshow": {
     "slide_type": "slide"
    }
   },
   "outputs": [
    {
     "data": {
      "text/plain": [
       "0.9368421052631579"
      ]
     },
     "execution_count": 29,
     "metadata": {},
     "output_type": "execute_result"
    }
   ],
   "source": [
    "# 특성 선택\n",
    "\n",
    "\n",
    "# LogisticRegression 적용\n",
    "model = LogisticRegression()\n",
    "model.fit(X_train_selected1, y_train)\n",
    "model.score(X_test_selected1, y_test)"
   ]
  },
  {
   "cell_type": "markdown",
   "metadata": {
    "colab_type": "text",
    "id": "C4dwilApAWJc",
    "slideshow": {
     "slide_type": "slide"
    }
   },
   "source": [
    "- 특성 선택이 더 잘 되었으므로 성능도 조금 향상"
   ]
  },
  {
   "cell_type": "markdown",
   "metadata": {
    "colab_type": "text",
    "id": "IV39Cag1E3ae",
    "slideshow": {
     "slide_type": "slide"
    }
   },
   "source": [
    "### 반복적 특성 선택(iterative selection)\n",
    "\n",
    "- 특성의 수가 각기 다른 모델에서 만들어짐\n",
    "\n",
    "- 방법\n",
    "\n",
    "  1. 특성을 하나도 선택하지 않은 상태로 시작해 어떤 종료 조건을 도달할 때까지 하나씩 추가하는 방법\n",
    "  2. 모든 특성을 가지고 시작해 어떤 종료 조건이 될 때까지 하나씩 제거하는 방법"
   ]
  },
  {
   "cell_type": "code",
   "execution_count": 30,
   "metadata": {
    "colab": {
     "base_uri": "https://localhost:8080/",
     "height": 55
    },
    "colab_type": "code",
    "executionInfo": {
     "elapsed": 8743,
     "status": "ok",
     "timestamp": 1598181143286,
     "user": {
      "displayName": "oz To",
      "photoUrl": "",
      "userId": "12937505880450462933"
     },
     "user_tz": -540
    },
    "id": "7SfFH6jxFTiV",
    "outputId": "c5ea0494-19b6-4ada-fe35-c45008e6c504",
    "slideshow": {
     "slide_type": "slide"
    }
   },
   "outputs": [
    {
     "data": {
      "text/plain": [
       "([<matplotlib.axis.YTick at 0x2598d6d7808>],\n",
       " <a list of 1 Text yticklabel objects>)"
      ]
     },
     "execution_count": 30,
     "metadata": {},
     "output_type": "execute_result"
    },
    {
     "data": {
      "image/png": "[encoded data removed]",
      "text/plain": [
       "<Figure size 1152x144 with 1 Axes>"
      ]
     },
     "metadata": {
      "needs_background": "light"
     },
     "output_type": "display_data"
    }
   ],
   "source": [
    "from sklearn.feature_selection import RFE\n",
    "\n",
    "# 특성 선택\n",
    "select2 = RFE(RandomForestClassifier(n_estimators=100, random_state=0),\n",
    "             n_features_to_select=40)\n",
    "\n",
    "select2.fit(X_train, y_train)\n",
    "\n",
    "# 선택된 특성을 표시\n",
    "mask = select2.get_support()\n",
    "\n",
    "# True는 검은색, False는 흰색으로 마스킹\n",
    "plt.matshow(mask.reshape(1,-1), cmap='gray_r')\n",
    "plt.yticks([0])"
   ]
  },
  {
   "cell_type": "markdown",
   "metadata": {
    "colab_type": "text",
    "id": "_jIwyolOBaDS",
    "slideshow": {
     "slide_type": "slide"
    }
   },
   "source": [
    "- 이전 보다 특성 선택이 나아졌지만, 여전히 특성 한 개를 놓침\n",
    "- 랜덤 포레스트 모델은 특성이 누락될 때마다 다시 학습하므로 40번이나 실행하여 모델 기반 선택보다 오래 걸림"
   ]
  },
  {
   "cell_type": "code",
   "execution_count": 31,
   "metadata": {
    "colab": {
     "base_uri": "https://localhost:8080/",
     "height": 35
    },
    "colab_type": "code",
    "executionInfo": {
     "elapsed": 1178,
     "status": "ok",
     "timestamp": 1598181355037,
     "user": {
      "displayName": "oz To",
      "photoUrl": "",
      "userId": "12937505880450462933"
     },
     "user_tz": -540
    },
    "id": "3StYMgIFFgu1",
    "outputId": "aeb7ea0b-0859-41fa-fdd8-2410e5a412e5",
    "slideshow": {
     "slide_type": "slide"
    }
   },
   "outputs": [
    {
     "data": {
      "text/plain": [
       "0.9508771929824561"
      ]
     },
     "execution_count": 31,
     "metadata": {},
     "output_type": "execute_result"
    }
   ],
   "source": [
    "# 특성 선택\n",
    "X_train_selected2 = select2.transform(X_train)\n",
    "X_test_selected2 = select2.transform(X_test)\n",
    "\n",
    "# LogisticRegression 적용\n",
    "model = LogisticRegression(solver='liblinear')\n",
    "model.fit(X_train_selected2, y_train)\n",
    "model.score(X_test_selected2, y_test)"
   ]
  },
  {
   "cell_type": "markdown",
   "metadata": {
    "colab_type": "text",
    "id": "fIaDUZ0sCG1U",
    "slideshow": {
     "slide_type": "slide"
    }
   },
   "source": [
    "- 특성 선택이 제대로 되면 선형 모델의 성능은 랜덤 포레스트와 견줄만 함"
   ]
  },
  {
   "cell_type": "markdown",
   "metadata": {
    "colab_type": "text",
    "id": "YFjJAL5vGGom",
    "slideshow": {
     "slide_type": "slide"
    }
   },
   "source": [
    "## 전문가적 지식 활용\n",
    "\n",
    "- 특성 공학은 특정 어플리케이션을 위해 전문가적 지식을 사용할 수 있는 중요한 영역\n",
    "- 분야 전문가는 종종 초기 데이터에서 더 유용한 특성을 선택할 수 있도록 도움을 줄 수 있음\n",
    "\n",
    "- 해당 분야에 내재된 사전 지식이 특성으로 추가될 수 있다면 머신러닝 알고리즘에 도움이 됨"
   ]
  },
  {
   "cell_type": "markdown",
   "metadata": {
    "colab_type": "text",
    "id": "I7Nt6hKrDgWy",
    "slideshow": {
     "slide_type": "slide"
    }
   },
   "source": [
    "### 특성 공학 실습 01 \n",
    "\n",
    "시티바이크 데이터\n",
    "\n",
    "- http://www.citibikenyc.com/system-data\n",
    "\n",
    "- 문제 : 특정 날짜와 시간에 앤디 집 앞에 있는 자전거를 사람들이 얼마나 대여할 것인지 예측하는 것 \n",
    "- 앤디가 빌릴 자전거가 남아 있을까?"
   ]
  },
  {
   "cell_type": "code",
   "execution_count": 32,
   "metadata": {
    "colab": {
     "base_uri": "https://localhost:8080/",
     "height": 143
    },
    "colab_type": "code",
    "executionInfo": {
     "elapsed": 1163,
     "status": "ok",
     "timestamp": 1598182115657,
     "user": {
      "displayName": "oz To",
      "photoUrl": "",
      "userId": "12937505880450462933"
     },
     "user_tz": -540
    },
    "id": "cLQLggbKHO4v",
    "outputId": "944a4492-2d33-4c56-c3e2-3c31cd3cee7b",
    "slideshow": {
     "slide_type": "slide"
    }
   },
   "outputs": [
    {
     "data": {
      "text/plain": [
       "starttime\n",
       "2015-08-01 00:00:00     3\n",
       "2015-08-01 03:00:00     0\n",
       "2015-08-01 06:00:00     9\n",
       "2015-08-01 09:00:00    41\n",
       "2015-08-01 12:00:00    39\n",
       "Freq: 3H, Name: one, dtype: int64"
      ]
     },
     "execution_count": 32,
     "metadata": {},
     "output_type": "execute_result"
    }
   ],
   "source": [
    "# 2015년 8월 데이터 세 시간 간격 일일 주요 경향\n",
    "import mglearn\n",
    "\n",
    "citibike = mglearn.datasets.load_citibike()\n",
    "\n",
    "citibike.head()"
   ]
  },
  {
   "cell_type": "code",
   "execution_count": 33,
   "metadata": {
    "colab": {
     "base_uri": "https://localhost:8080/",
     "height": 288
    },
    "colab_type": "code",
    "executionInfo": {
     "elapsed": 1046,
     "status": "ok",
     "timestamp": 1598182548683,
     "user": {
      "displayName": "oz To",
      "photoUrl": "",
      "userId": "12937505880450462933"
     },
     "user_tz": -540
    },
    "id": "r0eURPMwHnmT",
    "outputId": "0296ead6-4aa4-472e-f0c1-e35c927ddbe0",
    "slideshow": {
     "slide_type": "slide"
    }
   },
   "outputs": [
    {
     "data": {
      "text/plain": [
       "Text(0, 0.5, 'rental number')"
      ]
     },
     "execution_count": 33,
     "metadata": {},
     "output_type": "execute_result"
    },
    {
     "data": {
      "image/png": "[encoded data removed]",
      "text/plain": [
       "<Figure size 720x216 with 1 Axes>"
      ]
     },
     "metadata": {
      "needs_background": "light"
     },
     "output_type": "display_data"
    }
   ],
   "source": [
    "# 8월 한 달 동안의 대여 횟수\n",
    "plt.figure(figsize=(10, 3))\n",
    "\n",
    "xticks = pd.date_range(start=citibike.index.min(), end=citibike.index.max(), freq='D')\n",
    "week = [\"Sun\", \"Mon\", \"Tue\",\"Wed\", \"Thu\", \"Fri\", \"Sat\"]\n",
    "xticks_name = [week[int(w)]+d for w, d in zip(xticks.strftime(\"%w\"),\n",
    "                                              xticks.strftime(\" %m-%d\"))]\n",
    "\n",
    "plt.xticks(xticks, xticks_name, rotation=90, ha=\"left\")\n",
    "plt.plot(citibike, linewidth=1)\n",
    "plt.xlabel(\"date\")\n",
    "plt.ylabel(\"rental number\")  # 대여 횟수"
   ]
  },
  {
   "cell_type": "markdown",
   "metadata": {
    "colab_type": "text",
    "id": "2jx2nXb7GpAb",
    "slideshow": {
     "slide_type": "slide"
    }
   },
   "source": [
    "- 낮과 밤, 주중과 주말의 패턴 차이\n"
   ]
  },
  {
   "cell_type": "markdown",
   "metadata": {
    "colab_type": "text",
    "id": "n2rceSqrJJIQ",
    "slideshow": {
     "slide_type": "slide"
    }
   },
   "source": [
    "#### 훈련 세트와 테스트 세트로 나누기\n",
    "\n",
    "- 시계열 데이터를 이용한 예측 작업은 과거 데이터에서 학습하여 미래를 예측하는 방식\n",
    "- 어떤 날짜를 기준으로 훈련 세트와 테스트 세트를 나눔"
   ]
  },
  {
   "cell_type": "code",
   "execution_count": 34,
   "metadata": {
    "colab": {},
    "colab_type": "code",
    "executionInfo": {
     "elapsed": 815,
     "status": "ok",
     "timestamp": 1598183324082,
     "user": {
      "displayName": "oz To",
      "photoUrl": "",
      "userId": "12937505880450462933"
     },
     "user_tz": -540
    },
    "id": "cPyVZaBOJPog",
    "slideshow": {
     "slide_type": "slide"
    }
   },
   "outputs": [],
   "source": [
    "# 3시간 누적 카운트 이므로 하루 24/3=8 개씩 23일 치는 184개 8일 치는 64개\n",
    "# 처음 184개 데이터 포인트를 훈련 세트로 사용하고 나머지는 테스트 세트로 사용\n",
    "n_train = 184\n",
    "\n",
    "# 주어진 특성을 사용하여 평가하고 그래프를 만듬\n",
    "def eval_on_features(features, target, regressor):\n",
    "    # 훈련 세트와 테스트 세트로 나눔\n",
    "    X_train, X_test = features[:n_train], features[n_train:]\n",
    "    y_train, y_test = target[:n_train], target[n_train:]\n",
    "    \n",
    "    regressor.fit(X_train, y_train)\n",
    "    print(\"테스트 세트 R^2: {:.2f}\".format(regressor.score(X_test, y_test))) \n",
    "    \n",
    "    y_pred = regressor.predict(X_test)\n",
    "    y_pred_train = regressor.predict(X_train)\n",
    "    plt.figure(figsize=(10, 3))\n",
    "\n",
    "#     plt.xticks(range(0, len(X), 8), xticks_name, rotation=90, ha=\"left\")\n",
    "\n",
    "    plt.plot(range(n_train), y_train, label=\"train\")\n",
    "    plt.plot(range(n_train, len(y_test) + n_train), y_test, '-', label=\"test\")\n",
    "    plt.plot(range(n_train), y_pred_train, '--', label=\"train predict\")\n",
    "\n",
    "    plt.plot(range(n_train, len(y_test) + n_train), y_pred, '--', label=\"test predict\")\n",
    "    plt.legend(loc=(1.01, 0))\n",
    "    plt.xlabel(\"date\")\n",
    "    plt.ylabel(\"rental number\")"
   ]
  },
  {
   "cell_type": "markdown",
   "metadata": {
    "colab_type": "text",
    "id": "GKeIyhfpJs-w",
    "slideshow": {
     "slide_type": "slide"
    }
   },
   "source": [
    "#### 첫 번째 시도는 날짜와 시간을 하나의 숫자로 표현한 특성을 사용"
   ]
  },
  {
   "cell_type": "code",
   "execution_count": 35,
   "metadata": {
    "colab": {},
    "colab_type": "code",
    "executionInfo": {
     "elapsed": 789,
     "status": "ok",
     "timestamp": 1598183321739,
     "user": {
      "displayName": "oz To",
      "photoUrl": "",
      "userId": "12937505880450462933"
     },
     "user_tz": -540
    },
    "id": "2HYQlyqkJOIN",
    "slideshow": {
     "slide_type": "slide"
    }
   },
   "outputs": [],
   "source": [
    "# 타깃값 추출 (대여 횟수)\n",
    "y = citibike.values\n",
    "\n",
    "# POSIX 시간 : 1970/1/1 00:00:00 부터 초로 나타냄\n",
    "# POSIX 시간을 10**9로 나누어 변환\n",
    "X = citibike.index.astype('int64').values.reshape(-1,1) // 10**9"
   ]
  },
  {
   "cell_type": "markdown",
   "metadata": {
    "colab_type": "text",
    "id": "o-kbtWZbJlz-",
    "slideshow": {
     "slide_type": "slide"
    }
   },
   "source": [
    "RandomForestRegressro 이용\n",
    "\n",
    "- 데이터 전처리가 거의 필요하지 않아 처음 시도해보기 좋은 모델"
   ]
  },
  {
   "cell_type": "code",
   "execution_count": 36,
   "metadata": {
    "colab": {
     "base_uri": "https://localhost:8080/",
     "height": 260
    },
    "colab_type": "code",
    "executionInfo": {
     "elapsed": 1438,
     "status": "ok",
     "timestamp": 1598183327561,
     "user": {
      "displayName": "oz To",
      "photoUrl": "",
      "userId": "12937505880450462933"
     },
     "user_tz": -540
    },
    "id": "sml2AlzUJrCm",
    "outputId": "fc8a090b-9feb-4abc-c218-2e86343598d7",
    "slideshow": {
     "slide_type": "slide"
    }
   },
   "outputs": [
    {
     "name": "stdout",
     "output_type": "stream",
     "text": [
      "테스트 세트 R^2: -0.04\n"
     ]
    },
    {
     "data": {
      "image/png": "[encoded data removed]",
      "text/plain": [
       "<Figure size 720x216 with 1 Axes>"
      ]
     },
     "metadata": {
      "needs_background": "light"
     },
     "output_type": "display_data"
    }
   ],
   "source": [
    "from sklearn.ensemble import RandomForestRegressor\n",
    "\n",
    "model_rfr = RandomForestRegressor(n_estimators=100, random_state=0)\n",
    "eval_on_features(X, y, model_rfr)"
   ]
  },
  {
   "cell_type": "markdown",
   "metadata": {
    "colab_type": "text",
    "id": "pdrQnM00LFl-",
    "slideshow": {
     "slide_type": "slide"
    }
   },
   "source": [
    "- 랜덤 포레스트는 훈련 세트에 있는 특성의 범위 밖으로 외샵(extrapolation)할 수 있는 능력이 없음\n",
    "- 테스트 세트와 가장 가까이 있는 마지막 훈련 세트 데이터의 타깃값을 예측으로 사용"
   ]
  },
  {
   "cell_type": "markdown",
   "metadata": {
    "colab_type": "text",
    "id": "SHTJrpBOK0wo",
    "slideshow": {
     "slide_type": "slide"
    }
   },
   "source": [
    "#### 두 번째 시도는 시간과 요일 특성을 추가\n",
    "\n",
    "- 전문가적 지식 : 훈련 데이터의 대여 데이터를 시간과 요일 이라는 두 요소가 중요한 것으로 보임"
   ]
  },
  {
   "cell_type": "code",
   "execution_count": 37,
   "metadata": {
    "colab": {
     "base_uri": "https://localhost:8080/",
     "height": 260
    },
    "colab_type": "code",
    "executionInfo": {
     "elapsed": 1486,
     "status": "ok",
     "timestamp": 1598183778426,
     "user": {
      "displayName": "oz To",
      "photoUrl": "",
      "userId": "12937505880450462933"
     },
     "user_tz": -540
    },
    "id": "xZA7xWhZLN2k",
    "outputId": "898126d3-f6d4-402c-b03e-fe1363afb8f9",
    "slideshow": {
     "slide_type": "slide"
    }
   },
   "outputs": [
    {
     "name": "stdout",
     "output_type": "stream",
     "text": [
      "테스트 세트 R^2: 0.60\n"
     ]
    },
    {
     "data": {
      "image/png": "[encoded data removed]",
      "text/plain": [
       "<Figure size 720x216 with 1 Axes>"
      ]
     },
     "metadata": {
      "needs_background": "light"
     },
     "output_type": "display_data"
    }
   ],
   "source": [
    "# 시간 정보 추가\n",
    "X_hour = citibike.index.hour.values.reshape(-1,1)\n",
    "eval_on_features(X_hour, y, model_rfr)"
   ]
  },
  {
   "cell_type": "markdown",
   "metadata": {
    "colab_type": "text",
    "id": "7X_KUaTILZ2o",
    "slideshow": {
     "slide_type": "slide"
    }
   },
   "source": [
    "- 나아졌지만 주간 패턴은 예측 못함"
   ]
  },
  {
   "cell_type": "code",
   "execution_count": 50,
   "metadata": {
    "colab": {
     "base_uri": "https://localhost:8080/",
     "height": 260
    },
    "colab_type": "code",
    "executionInfo": {
     "elapsed": 1677,
     "status": "ok",
     "timestamp": 1598183793169,
     "user": {
      "displayName": "oz To",
      "photoUrl": "",
      "userId": "12937505880450462933"
     },
     "user_tz": -540
    },
    "id": "RgOrH5rZMJUv",
    "outputId": "af731ba5-8cd3-44b1-918f-0ed8bf9cca97",
    "slideshow": {
     "slide_type": "slide"
    }
   },
   "outputs": [
    {
     "name": "stdout",
     "output_type": "stream",
     "text": [
      "테스트 세트 R^2: 0.84\n"
     ]
    },
    {
     "data": {
      "image/png": "[encoded data removed]",
      "text/plain": [
       "<Figure size 720x216 with 1 Axes>"
      ]
     },
     "metadata": {
      "needs_background": "light"
     },
     "output_type": "display_data"
    }
   ],
   "source": [
    "# 요일 정보도 추가\n",
    "X_hour_week = np.hstack([citibike.index.dayofweek.values.reshape(-1, 1), X_hour])\n",
    "eval_on_features(X_hour_week, y, model_rfr)"
   ]
  },
  {
   "cell_type": "markdown",
   "metadata": {
    "colab_type": "text",
    "id": "3XmX69hhMZ4S",
    "slideshow": {
     "slide_type": "slide"
    }
   },
   "source": [
    "- 하루의 시간과 요일에 따른 주기적인 패턴을 따르고 있음\n",
    "- 8월 23일까지 요일별, 시간별 평균 대여 횟수를 학습"
   ]
  },
  {
   "cell_type": "code",
   "execution_count": 51,
   "metadata": {
    "colab": {
     "base_uri": "https://localhost:8080/",
     "height": 291
    },
    "colab_type": "code",
    "id": "jPZim-hHMn9f",
    "outputId": "98506a6c-294f-4bdb-d988-7117e6d3cea2",
    "slideshow": {
     "slide_type": "slide"
    }
   },
   "outputs": [
    {
     "name": "stdout",
     "output_type": "stream",
     "text": [
      "테스트 세트 R^2: 0.13\n"
     ]
    },
    {
     "data": {
      "image/png": "[encoded data removed]",
      "text/plain": [
       "<Figure size 720x216 with 1 Axes>"
      ]
     },
     "metadata": {
      "needs_background": "light"
     },
     "output_type": "display_data"
    }
   ],
   "source": [
    "# LinearRegression 을 적용\n",
    "# 굳이 랜덤 포레스트같이 복잡한 모델이 필요하지 않음\n",
    "from sklearn.linear_model import LinearRegression\n",
    "\n",
    "eval_on_features(X_hour_week, y , LinearRegression())"
   ]
  },
  {
   "cell_type": "markdown",
   "metadata": {
    "colab_type": "text",
    "id": "hPX7uiodM06Q",
    "slideshow": {
     "slide_type": "slide"
    }
   },
   "source": [
    "- 성능 나쁘고 주기 패턴 이상 이유\n",
    " - 요일과 시간이 정수로 인코딩되어 있어서 연속형 변수로 해석되기 때문\n",
    " - 하루에서 시간이 흐를 수록 대여수가 늘어나게 학습되어 있음\n",
    " - 하지만 실제 패턴 이보다 복잡 \n",
    "\n",
    "- 이 패턴을 잡아내기 위해 OneHotEncoder를 사용하여 정수형을 범주형 변수로 해석"
   ]
  },
  {
   "cell_type": "code",
   "execution_count": 54,
   "metadata": {
    "colab": {},
    "colab_type": "code",
    "executionInfo": {
     "elapsed": 747,
     "status": "ok",
     "timestamp": 1598184159053,
     "user": {
      "displayName": "oz To",
      "photoUrl": "",
      "userId": "12937505880450462933"
     },
     "user_tz": -540
    },
    "id": "xv5d2-r8NVZM",
    "slideshow": {
     "slide_type": "slide"
    }
   },
   "outputs": [
    {
     "data": {
      "text/plain": [
       "(248, 15)"
      ]
     },
     "execution_count": 54,
     "metadata": {},
     "output_type": "execute_result"
    }
   ],
   "source": [
    "from sklearn.preprocessing import OneHotEncoder\n",
    "\n",
    "encoder = OneHotEncoder()\n",
    "X_hour_week_onehot = encoder.fit_transform(X_hour_week).toarray()\n",
    "X_hour_week_onehot.shape"
   ]
  },
  {
   "cell_type": "markdown",
   "metadata": {
    "colab_type": "text",
    "id": "mCG04wvaTfN5",
    "slideshow": {
     "slide_type": "slide"
    }
   },
   "source": [
    "Ridge 이용"
   ]
  },
  {
   "cell_type": "code",
   "execution_count": 55,
   "metadata": {
    "colab": {
     "base_uri": "https://localhost:8080/",
     "height": 260
    },
    "colab_type": "code",
    "executionInfo": {
     "elapsed": 1342,
     "status": "ok",
     "timestamp": 1598184173777,
     "user": {
      "displayName": "oz To",
      "photoUrl": "",
      "userId": "12937505880450462933"
     },
     "user_tz": -540
    },
    "id": "d7vAMB_pNnP8",
    "outputId": "28d3cdfd-43ac-484c-f91d-c09c3c51acee",
    "slideshow": {
     "slide_type": "slide"
    }
   },
   "outputs": [
    {
     "name": "stdout",
     "output_type": "stream",
     "text": [
      "테스트 세트 R^2: 0.62\n"
     ]
    },
    {
     "data": {
      "image/png": "[encoded data removed]",
      "text/plain": [
       "<Figure size 720x216 with 1 Axes>"
      ]
     },
     "metadata": {
      "needs_background": "light"
     },
     "output_type": "display_data"
    }
   ],
   "source": [
    "from sklearn.linear_model import Ridge\n",
    "\n",
    "eval_on_features(X_hour_week_onehot, y, Ridge())"
   ]
  },
  {
   "cell_type": "markdown",
   "metadata": {
    "colab_type": "text",
    "id": "bcXZqFGNN4-Y",
    "slideshow": {
     "slide_type": "slide"
    }
   },
   "source": [
    "- 연속형 특성일 때보다 훨씬 좋아짐\n",
    "\n",
    " - 이 선형 모델은 요일에 대해 하나의 계수를 학습\n",
    " - 시간에 대해서도 하나의 계수 학습\n",
    " - 시간 패턴이 모든 날에 걸쳐 공유된다는 뜻\n",
    "\n",
    "- 상호작용 특성을 사용하면 시간과 요일 조합별 계수를 학습 가능"
   ]
  },
  {
   "cell_type": "code",
   "execution_count": 58,
   "metadata": {
    "colab": {
     "base_uri": "https://localhost:8080/",
     "height": 260
    },
    "colab_type": "code",
    "executionInfo": {
     "elapsed": 1630,
     "status": "ok",
     "timestamp": 1598184308216,
     "user": {
      "displayName": "oz To",
      "photoUrl": "",
      "userId": "12937505880450462933"
     },
     "user_tz": -540
    },
    "id": "yQlFRFjhN-RO",
    "outputId": "76aa27e7-5e2a-4866-beef-f9936f40bae3",
    "slideshow": {
     "slide_type": "slide"
    }
   },
   "outputs": [
    {
     "name": "stdout",
     "output_type": "stream",
     "text": [
      "테스트 세트 R^2: 0.85\n"
     ]
    },
    {
     "data": {
      "image/png": "[encoded data removed]",
      "text/plain": [
       "<Figure size 720x216 with 1 Axes>"
      ]
     },
     "metadata": {
      "needs_background": "light"
     },
     "output_type": "display_data"
    }
   ],
   "source": [
    "# 상호작용 특성 추가 특성의 수를 늘리자!!\n",
    "from sklearn.preprocessing import PolynomialFeatures\n",
    "\n",
    "pt = PolynomialFeatures(degree=2, interaction_only=True, include_bias=False)\n",
    "X_hour_week_onehot_poly = pt.fit_transform(X_hour_week_onehot)\n",
    "X_hour_week_onehot_poly.shape\n",
    "\n",
    "model = Ridge()\n",
    "eval_on_features(X_hour_week_onehot_poly, y, model)"
   ]
  },
  {
   "cell_type": "markdown",
   "metadata": {
    "colab_type": "text",
    "id": "d_wK2s2EOQTi",
    "slideshow": {
     "slide_type": "slide"
    }
   },
   "source": [
    "- 이 모델 가장 큰 장점 : 무엇이 학습되었는지 명확 \n",
    "\n",
    "- 각 날짜와 시간에 대해 하나의 계수를 학습 \n",
    "\n",
    "- 랜덤 포레스트와는 달리 이 모델이 학습한 계수를 그래프로 나타낼수 있음"
   ]
  },
  {
   "cell_type": "code",
   "execution_count": 59,
   "metadata": {
    "colab": {},
    "colab_type": "code",
    "executionInfo": {
     "elapsed": 835,
     "status": "ok",
     "timestamp": 1598185400656,
     "user": {
      "displayName": "oz To",
      "photoUrl": "",
      "userId": "12937505880450462933"
     },
     "user_tz": -540
    },
    "id": "zqgSRiToRZwW",
    "slideshow": {
     "slide_type": "slide"
    }
   },
   "outputs": [],
   "source": [
    "# 시간과 요일 특성의 이름\n",
    "hour = [\"%02d:00\" % i for i in range(0, 24, 3)]\n",
    "day = [\"월\", \"화\", \"수\", \"목\", \"금\", \"토\", \"일\"]\n",
    "features =  day + hour"
   ]
  },
  {
   "cell_type": "code",
   "execution_count": 60,
   "metadata": {
    "colab": {},
    "colab_type": "code",
    "executionInfo": {
     "elapsed": 739,
     "status": "ok",
     "timestamp": 1598185401065,
     "user": {
      "displayName": "oz To",
      "photoUrl": "",
      "userId": "12937505880450462933"
     },
     "user_tz": -540
    },
    "id": "ynk0RyTfRcFr",
    "slideshow": {
     "slide_type": "slide"
    }
   },
   "outputs": [],
   "source": [
    "# 추출한 모든 상호작용 특성에 이름을 부여\n",
    "# 계수가 0이 아닌 특성만 선택\n",
    "features_poly = pt.get_feature_names(features)\n",
    "features_nonzero = np.array(features_poly)[model.coef_ != 0]\n",
    "coef_nonzero = model.coef_[model.coef_ != 0]"
   ]
  },
  {
   "cell_type": "code",
   "execution_count": 45,
   "metadata": {
    "colab": {
     "base_uri": "https://localhost:8080/",
     "height": 174
    },
    "colab_type": "code",
    "executionInfo": {
     "elapsed": 1205,
     "status": "ok",
     "timestamp": 1598185567396,
     "user": {
      "displayName": "oz To",
      "photoUrl": "",
      "userId": "12937505880450462933"
     },
     "user_tz": -540
    },
    "id": "BSejArpVRdm7",
    "outputId": "b6e60d1f-52a6-4b53-c2a3-da15743679ea",
    "slideshow": {
     "slide_type": "slide"
    }
   },
   "outputs": [],
   "source": [
    "# 시간과 요일의 곱을 사용한 선형 모델의 계수 시각화\n"
   ]
  }
 ],
 "metadata": {
  "celltoolbar": "Slideshow",
  "colab": {
   "authorship_tag": "ABX9TyNGB81noYpMOAttdpvej704",
   "collapsed_sections": [],
   "name": "ml_14_데이터표현_특성공학.ipynb",
   "provenance": []
  },
  "kernelspec": {
   "display_name": "Python 3",
   "language": "python",
   "name": "python3"
  },
  "language_info": {
   "codemirror_mode": {
    "name": "ipython",
    "version": 3
   },
   "file_extension": ".py",
   "mimetype": "text/x-python",
   "name": "python",
   "nbconvert_exporter": "python",
   "pygments_lexer": "ipython3",
   "version": "3.7.6"
  }
 },
 "nbformat": 4,
 "nbformat_minor": 1
}
